{
  "cells": [
    {
      "cell_type": "markdown",
      "metadata": {
        "Collapsed": "false",
        "id": "OjUNeFsxyguu"
      },
      "source": [
        "<span style=\"float: left;padding: 1.3em\">![logo](https://github.com/gw-odw/odw-2024/blob/main/Tutorials/logo.png?raw=1)</span>\n",
        "\n",
        "\n",
        "#  Gravitational Wave Open Data Workshop #7\n",
        "\n",
        "\n",
        "## Tutorial 3.2: Parameter estimation for compact object mergers\n",
        "\n",
        "In this tutorial, we will learn how to run our own parameter estimation analysis for compact object mergers using the [bilby Bayesian inference library](https://lscsoft.docs.ligo.org/bilby/). Specifically, we will analyse the first detection, GW150914 using open data. Typically, a full analysis using stochastic sampling on a personal computer can take many hours if not days. Therefore, this analysis will be restricted to a non-spinning binary black hole model and neglect the marginalization of the calibration uncertainty. This will take about 30 minutes to run (note that a bottleneck is given by the first cell in the Section \"Create a likelihood-Run the analysis\": computational time depends a lot on the machine you decide to run, on Google Colab is about 10 minutes this cell only).\n",
        "   \n",
        "   \n",
        "You can find more examples of using bilby here: https://lscsoft.docs.ligo.org/bilby/examples.html\n",
        "\n",
        "[Click this link to view this tutorial in Google Colaboratory](https://colab.research.google.com/github/gw-odw/odw-2024/blob/main/Tutorials/Day_3/Tuto_3.2_Parameter_estimation_for_compact_object_mergers.ipynb)\n"
      ]
    },
    {
      "cell_type": "markdown",
      "metadata": {
        "Collapsed": "false",
        "id": "VwsIdKJ3yguv"
      },
      "source": [
        "##  Installation  (execute only if running on a cloud platform!)"
      ]
    },
    {
      "cell_type": "code",
      "execution_count": 3,
      "metadata": {
        "Collapsed": "false",
        "id": "eJeo4XrHyguw",
        "tags": []
      },
      "outputs": [],
      "source": [
        "# -- Use the following line in Google Colab\n",
        "! pip install -q bilby==2.2.2 matplotlib==3.7.3 dynesty==2.1.2 corner==2.2.2 gwpy==3.0.8 lalsuite==7.21"
      ]
    },
    {
      "cell_type": "markdown",
      "metadata": {
        "Collapsed": "false",
        "id": "f0q3Y_9gygu0"
      },
      "source": [
        "**Important:** With Google Colab, you may need to restart the runtime after running the cell above."
      ]
    },
    {
      "cell_type": "markdown",
      "metadata": {
        "Collapsed": "false",
        "id": "XK8fHu13ygu1"
      },
      "source": [
        "## Initialization\n",
        "\n",
        "We begin by importing some commonly used functions"
      ]
    },
    {
      "cell_type": "code",
      "execution_count": 4,
      "metadata": {
        "Collapsed": "false",
        "colab": {
          "base_uri": "https://localhost:8080/",
          "height": 0
        },
        "id": "HyRSGt6cygu2",
        "tags": [],
        "outputId": "61474773-c967-4112-b6a2-abc3b290fd23"
      },
      "outputs": [
        {
          "output_type": "stream",
          "name": "stderr",
          "text": [
            "/usr/local/lib/python3.10/dist-packages/gwpy/time/__init__.py:36: UserWarning: Wswiglal-redir-stdio:\n",
            "\n",
            "SWIGLAL standard output/error redirection is enabled in IPython.\n",
            "This may lead to performance penalties. To disable locally, use:\n",
            "\n",
            "with lal.no_swig_redirect_standard_output_error():\n",
            "    ...\n",
            "\n",
            "To disable globally, use:\n",
            "\n",
            "lal.swig_redirect_standard_output_error(True)\n",
            "\n",
            "Note however that this will likely lead to error messages from\n",
            "LAL functions being either misdirected or lost when called from\n",
            "Jupyter notebooks.\n",
            "\n",
            "To suppress this warning, use:\n",
            "\n",
            "import warnings\n",
            "warnings.filterwarnings(\"ignore\", \"Wswiglal-redir-stdio\")\n",
            "import lal\n",
            "\n",
            "  from lal import LIGOTimeGPS\n"
          ]
        }
      ],
      "source": [
        "import numpy as np\n",
        "import matplotlib.pyplot as plt\n",
        "\n",
        "import bilby\n",
        "from bilby.core.prior import Uniform, PowerLaw\n",
        "from bilby.gw.conversion import convert_to_lal_binary_black_hole_parameters, generate_all_bbh_parameters\n",
        "\n",
        "from gwpy.timeseries import TimeSeries"
      ]
    },
    {
      "cell_type": "markdown",
      "metadata": {
        "id": "KX9H441F4C3d"
      },
      "source": [
        "## Bilby version"
      ]
    },
    {
      "cell_type": "code",
      "execution_count": 5,
      "metadata": {
        "tags": [],
        "colab": {
          "base_uri": "https://localhost:8080/",
          "height": 0
        },
        "id": "Vn71Zw2J4C3d",
        "outputId": "8aa0d249-40dd-41bb-eb02-5c22acfe3b99"
      },
      "outputs": [
        {
          "output_type": "stream",
          "name": "stdout",
          "text": [
            "2.2.2\n"
          ]
        }
      ],
      "source": [
        "print(bilby.__version__)"
      ]
    },
    {
      "cell_type": "markdown",
      "metadata": {
        "Collapsed": "false",
        "id": "_Hd4d4KVygu6"
      },
      "source": [
        "## Getting the data: GW150914\n",
        "\n",
        "In this notebook, we'll analyse GW150914. Our first task is to obtain some data!\n",
        "\n",
        "We need to know the trigger time. This can be found on the [GWOSC page](https://www.gw-openscience.org/events/GW150914/), here we define it as a variable"
      ]
    },
    {
      "cell_type": "code",
      "execution_count": 6,
      "metadata": {
        "Collapsed": "false",
        "id": "1cUhLaFIygu6",
        "tags": []
      },
      "outputs": [],
      "source": [
        "time_of_event = 1126259462.4"
      ]
    },
    {
      "cell_type": "markdown",
      "metadata": {
        "id": "MwZ_fpKW4C3e"
      },
      "source": [
        "### Set up empty interferometers\n",
        "\n",
        "We need to get some data to analyse. We'll be using data from the Hanford (H1) and Livingston (L1) ground-based gravitational wave detectors. To organise ourselves, we'll create two \"empty\" interferometers. These are empty in the sense that they don't have any strain data. But, they know about the orientation and location of their respective namesakes. It may also be interesting to note that they are initialised with the planned design sensitivity power spectral density of advanced LIGO - we'll overwrite this later on, but it is often useful for simulations."
      ]
    },
    {
      "cell_type": "code",
      "execution_count": 7,
      "metadata": {
        "tags": [],
        "id": "ClYzg2jx4C3f"
      },
      "outputs": [],
      "source": [
        "H1 = bilby.gw.detector.get_empty_interferometer(\"H1\")\n",
        "L1 = bilby.gw.detector.get_empty_interferometer(\"L1\")"
      ]
    },
    {
      "cell_type": "markdown",
      "metadata": {
        "id": "TYSON3po4C3f"
      },
      "source": [
        "### Download the data\n",
        "\n",
        "To analyse the signal, we need to download analysis data. Here, we will use [gwpy](https://gwpy.github.io/) to download the open strain data. For a general introduction to reading/writing data with gwpy, see [the documentation](https://gwpy.github.io/docs/stable/timeseries/).\n",
        "\n",
        "To analyse GW150914, we will use a 4s period duration centered on the event itself. It is standard to choose the data such that it always includes a \"post trigger duration\" of 2s. That is, there is always 2s of data after the trigger time. We therefore define all times relative to the trigger time, duration and this post-trigger duration."
      ]
    },
    {
      "cell_type": "code",
      "execution_count": 8,
      "metadata": {
        "tags": [],
        "id": "prE3WoTo4C3f"
      },
      "outputs": [],
      "source": [
        "# Definite times in relation to the trigger time (time_of_event), duration and post_trigger_duration\n",
        "post_trigger_duration = 2\n",
        "duration = 4\n",
        "analysis_start = time_of_event + post_trigger_duration - duration\n",
        "\n",
        "# Use gwpy to fetch the open data\n",
        "H1_analysis_data = TimeSeries.fetch_open_data(\n",
        "    \"H1\", analysis_start, analysis_start + duration, sample_rate=4096, cache=True)\n",
        "\n",
        "L1_analysis_data = TimeSeries.fetch_open_data(\n",
        "    \"L1\", analysis_start, analysis_start + duration, sample_rate=4096, cache=True)"
      ]
    },
    {
      "cell_type": "markdown",
      "metadata": {
        "id": "46UpVvKD4C3f"
      },
      "source": [
        "Here, `H1_analysis_data` and its L1 counterpart are gwpy `TimeSeries` objects. As such, we can plot the data itself out:"
      ]
    },
    {
      "cell_type": "code",
      "execution_count": 9,
      "metadata": {
        "tags": [],
        "colab": {
          "base_uri": "https://localhost:8080/",
          "height": 370
        },
        "id": "IW2SoQ1z4C3g",
        "outputId": "3a0c3f39-ad74-463a-fe0c-02b9d6fb6ecb"
      },
      "outputs": [
        {
          "output_type": "display_data",
          "data": {
            "text/plain": [
              "<Plot size 1200x400 with 1 Axes>"
            ],
            "image/png": "[encoded data removed]"
          },
          "metadata": {}
        }
      ],
      "source": [
        "H1_analysis_data.plot()\n",
        "plt.show()"
      ]
    },
    {
      "cell_type": "markdown",
      "metadata": {
        "id": "BOmvjOou4C3g"
      },
      "source": [
        "This doesn't tell us much of course! It is dominated by the low frequency noise.\n",
        "\n",
        "### Initialise the Bilby interferometers with the strain data\n",
        "\n",
        "Now, we pass the downloaded strain data to our `H1` and `L1` Bilby interferometer objects. For other methods to set the strain data, see the various `set_strain_data*` methods."
      ]
    },
    {
      "cell_type": "code",
      "execution_count": 10,
      "metadata": {
        "tags": [],
        "id": "pjKKScxc4C3g"
      },
      "outputs": [],
      "source": [
        "H1.set_strain_data_from_gwpy_timeseries(H1_analysis_data)\n",
        "L1.set_strain_data_from_gwpy_timeseries(L1_analysis_data)"
      ]
    },
    {
      "cell_type": "markdown",
      "metadata": {
        "id": "gF1Q6R2C4C3g"
      },
      "source": [
        "### Download the power spectral data\n",
        "\n",
        "Parameter estimation relies on having a power spectral density (PSD) - an estimate of the coloured noise properties of the data. Here, we will create a PSD using off-source data. For a review of methods to estimate PSDs, see, e.g. [Chatziioannou et al. (2019)](https://ui.adsabs.harvard.edu/abs/2019PhRvD.100j4004C/abstract).\n",
        "\n",
        "Again, we need to download this from the open strain data. We start by figuring out the amount of data needed - in this case 32 times the analysis duration. We fetch the segment with this duration immediately preceding the analysis segment."
      ]
    },
    {
      "cell_type": "code",
      "execution_count": 11,
      "metadata": {
        "tags": [],
        "id": "RfMYrSQ54C3g"
      },
      "outputs": [],
      "source": [
        "psd_duration = duration * 32\n",
        "psd_start_time = analysis_start - psd_duration\n",
        "\n",
        "H1_psd_data = TimeSeries.fetch_open_data(\n",
        "    \"H1\", psd_start_time, psd_start_time + psd_duration, sample_rate=4096, cache=True)\n",
        "\n",
        "L1_psd_data = TimeSeries.fetch_open_data(\n",
        "    \"L1\", psd_start_time, psd_start_time + psd_duration, sample_rate=4096, cache=True)"
      ]
    },
    {
      "cell_type": "markdown",
      "metadata": {
        "id": "GzhmmrMH4C3g"
      },
      "source": [
        "Having obtained the data to generate the PSD, we now use the standard [gwpy psd](https://gwpy.github.io/docs/stable/api/gwpy.timeseries.TimeSeries/#gwpy.timeseries.TimeSeries.psd) method to calculate the PSD. Here, the `psd_alpha` variable is converting the `roll_off` applied to the strain data into the fractional value used by `gwpy`. This applies a window with an appropriate shape to the time-domain data."
      ]
    },
    {
      "cell_type": "code",
      "execution_count": 12,
      "metadata": {
        "scrolled": true,
        "tags": [],
        "id": "xy5kTgRL4C3h"
      },
      "outputs": [],
      "source": [
        "psd_alpha = 2 * H1.strain_data.roll_off / duration\n",
        "H1_psd = H1_psd_data.psd(fftlength=duration, overlap=0, window=(\"tukey\", psd_alpha), method=\"median\")\n",
        "L1_psd = L1_psd_data.psd(fftlength=duration, overlap=0, window=(\"tukey\", psd_alpha), method=\"median\")"
      ]
    },
    {
      "cell_type": "markdown",
      "metadata": {
        "id": "PYPSD3Zr4C3h"
      },
      "source": [
        "### Initialise the PSD\n",
        "Now that we have PSDs for H1 and L1, we can overwrite the `power_spectal_density` attribute of our interferometers with a new PSD."
      ]
    },
    {
      "cell_type": "code",
      "execution_count": 13,
      "metadata": {
        "tags": [],
        "id": "zHUf6RaX4C3h"
      },
      "outputs": [],
      "source": [
        "H1.power_spectral_density = bilby.gw.detector.PowerSpectralDensity(\n",
        "    frequency_array=H1_psd.frequencies.value, psd_array=H1_psd.value)\n",
        "L1.power_spectral_density = bilby.gw.detector.PowerSpectralDensity(\n",
        "    frequency_array=H1_psd.frequencies.value, psd_array=L1_psd.value)"
      ]
    },
    {
      "cell_type": "markdown",
      "metadata": {
        "id": "beeVVdes4C3h"
      },
      "source": [
        "### Looking at the data\n",
        "Okay, we have spent a bit of time now downloading and initializing things. Let's check that everything makes sense. To do this, we'll plot our analysis data alongside the amplitude spectral density (ASD); this is just the square root of the PSD and has the right units to be comparable to the frequency-domain strain data."
      ]
    },
    {
      "cell_type": "code",
      "execution_count": 14,
      "metadata": {
        "tags": [],
        "colab": {
          "base_uri": "https://localhost:8080/",
          "height": 460
        },
        "id": "BTvnKZHj4C3h",
        "outputId": "29198e62-68ef-447e-d210-0f273ee0387c"
      },
      "outputs": [
        {
          "output_type": "display_data",
          "data": {
            "text/plain": [
              "<Figure size 640x480 with 1 Axes>"
            ],
            "image/png": "[encoded data removed]"
          },
          "metadata": {}
        }
      ],
      "source": [
        "fig, ax = plt.subplots()\n",
        "idxs = H1.strain_data.frequency_mask  # This is a boolean mask of the frequencies which we'll use in the analysis\n",
        "ax.loglog(H1.strain_data.frequency_array[idxs],\n",
        "          np.abs(H1.strain_data.frequency_domain_strain[idxs]))\n",
        "ax.loglog(H1.power_spectral_density.frequency_array[idxs],\n",
        "          H1.power_spectral_density.asd_array[idxs])\n",
        "ax.set_xlabel(\"Frequency [Hz]\")\n",
        "ax.set_ylabel(\"Strain [strain/$\\sqrt{Hz}$]\")\n",
        "plt.show()"
      ]
    },
    {
      "cell_type": "markdown",
      "metadata": {
        "id": "yJOUZSze4C3h"
      },
      "source": [
        "What is happening at high frequencies? This is an artifact of the downsampling applied to the data - note that we downloaded the 4096Hz data which is downsampled from 16384Hz. We aren't really interested in the data at these high frequencies so let's adjust the maximum frequency used in the analysis to 1024 Hz and plot things again."
      ]
    },
    {
      "cell_type": "code",
      "execution_count": 15,
      "metadata": {
        "tags": [],
        "id": "p-Ob4mXi4C3h"
      },
      "outputs": [],
      "source": [
        "H1.maximum_frequency = 1024\n",
        "L1.maximum_frequency = 1024"
      ]
    },
    {
      "cell_type": "code",
      "execution_count": 16,
      "metadata": {
        "tags": [],
        "colab": {
          "base_uri": "https://localhost:8080/",
          "height": 460
        },
        "id": "AkKqm8oX4C3h",
        "outputId": "02130553-ac27-4a69-e499-4a963a137b8d"
      },
      "outputs": [
        {
          "output_type": "display_data",
          "data": {
            "text/plain": [
              "<Figure size 640x480 with 1 Axes>"
            ],
            "image/png": "[encoded data removed]"
          },
          "metadata": {}
        }
      ],
      "source": [
        "fig, ax = plt.subplots()\n",
        "idxs = H1.strain_data.frequency_mask\n",
        "ax.loglog(H1.strain_data.frequency_array[idxs],\n",
        "          np.abs(H1.strain_data.frequency_domain_strain[idxs]))\n",
        "ax.loglog(H1.power_spectral_density.frequency_array[idxs],\n",
        "          H1.power_spectral_density.asd_array[idxs])\n",
        "ax.set_xlabel(\"Frequency [Hz]\")\n",
        "ax.set_ylabel(\"Strain [strain/$\\sqrt{Hz}$]\")\n",
        "plt.show()"
      ]
    },
    {
      "cell_type": "markdown",
      "metadata": {
        "id": "5zxHUd964C3h"
      },
      "source": [
        "Okay, that is better - we now won't analyse any data near to the artifact produced by downsampling. Now we have some sensible data to analyse so let's get right on with doing the analysis!"
      ]
    },
    {
      "cell_type": "markdown",
      "metadata": {
        "id": "Ogr2rbii4C3i"
      },
      "source": [
        "## Low dimensional analysis\n",
        "\n",
        "In general a compact binary coalescence signal is described by 15 parameters describing the masses, spins, orientation, and position of the two compact objects along with a time at which the signal merges. The goal of parameter estimation is to figure out what the data (and any cogent prior information) can tell us about the likely values of these parameters - this is called the \"posterior distribution of the parameters\".\n",
        "\n",
        "To start with, we'll analyse the data fixing all but a few of the parameters to known values (in Bayesian lingo - we use delta function priors), this will enable us to run things in a few minutes rather than the many hours needed to do full parameter estimation.\n",
        "\n",
        "We'll start by thinking about the mass of the system. We call the heavier black hole the primary and label its mass $m_1$ and that of the secondary (lighter) black hole $m_2$. In this way, we always define $m_1 \\ge m_2$. It turns out that inferences about $m_1$ and $m_2$ are highly correlated, we'll see exactly what this means later on.\n",
        "\n",
        "Bayesian inference methods are powerful at figuring out highly correlated posteriors. But, we can help it along by sampling in parameters which are not highly correlated. In particular, we define a new parameter called the [chirp mass](https://en.wikipedia.org/wiki/Chirp_mass) to be\n",
        "\n",
        "$$ \\mathcal{M} = \\frac{(m_1 m_2)^{3/5}}{(m_1 + m_2)^{1/5}} $$\n",
        "\n",
        "and the mass ratio\n",
        "\n",
        "$$ q = \\frac{m_{2}}{m_1} $$\n",
        "\n",
        "If we sample (make inferences about) $\\mathcal{M}$ and $q$, our code is much faster than if we use $m_1$ and $m_2$ directly! Note that so long as equivalent prior is given - one can also sample in the component masses themselves and you will get the same answer, it is just much slower!\n",
        "\n",
        "Once we have inferred $\\mathcal{M}$ and $q$, we can then derive $m_1$ and $m_2$ from the resulting samples (we'll do that in just a moment).\n",
        "\n",
        "Okay, let's run a short (~1min on a single 2.8GHz core), low-dimensional parameter estimation analysis. This is done by defining a prior dictionary where all parameters are fixed, except those that we want to vary."
      ]
    },
    {
      "cell_type": "markdown",
      "metadata": {
        "id": "g5eaBiWP4C3i"
      },
      "source": [
        "### Create a prior\n",
        "\n",
        "Here, we create a prior fixing everything except the chirp mass, mass ratio, phase and geocent_time parameters to fixed values. The first two were described above. The second two give the phase of the system and the time at which it merges referred to the centre of the Earth (which is the standard reference considering that different detectors detect the same signal at appreciable different times, depending on the source location in the sky)."
      ]
    },
    {
      "cell_type": "code",
      "execution_count": 17,
      "metadata": {
        "tags": [],
        "id": "u0f7Ko0K4C3i"
      },
      "outputs": [],
      "source": [
        "prior = bilby.core.prior.PriorDict()\n",
        "prior['chirp_mass'] = Uniform(name='chirp_mass', minimum=30.0,maximum=32.5)\n",
        "prior['mass_ratio'] = Uniform(name='mass_ratio', minimum=0.5, maximum=1)\n",
        "prior['phase'] = Uniform(name=\"phase\", minimum=0, maximum=2*np.pi)\n",
        "prior['geocent_time'] = Uniform(name=\"geocent_time\", minimum=time_of_event-0.1, maximum=time_of_event+0.1)\n",
        "prior['a_1'] =  0.0\n",
        "prior['a_2'] =  0.0\n",
        "prior['tilt_1'] =  0.0\n",
        "prior['tilt_2'] =  0.0\n",
        "prior['phi_12'] =  0.0\n",
        "prior['phi_jl'] =  0.0\n",
        "prior['dec'] =  -1.2232\n",
        "prior['ra'] =  2.19432\n",
        "prior['theta_jn'] =  1.89694\n",
        "prior['psi'] =  0.532268\n",
        "prior['luminosity_distance'] = PowerLaw(alpha=2, name='luminosity_distance', minimum=50, maximum=2000, unit='Mpc', latex_label='$d_L$')\n"
      ]
    },
    {
      "cell_type": "markdown",
      "metadata": {
        "id": "NxvI2ob34C3i"
      },
      "source": [
        "## Create a likelihood\n",
        "\n",
        "For Bayesian inference, we need to evaluate the likelihood. In Bilby, we create a likelihood object. This is the communication interface between the sampling part of Bilby and the data. Explicitly, when Bilby is sampling it only uses the `parameters` and `log_likelihood()` of the likelihood object. This means the likelihood can be arbitrarily complicated and the sampling part of Bilby won't mind a bit!\n",
        "\n",
        "Let's create a `GravitationalWaveTransient`, a special inbuilt method carefully designed to wrap up evaluating the likelihood of a waveform model in some data."
      ]
    },
    {
      "cell_type": "code",
      "execution_count": 18,
      "metadata": {
        "tags": [],
        "colab": {
          "base_uri": "https://localhost:8080/",
          "height": 153,
          "referenced_widgets": [
            "0a67371f22394b628b8793d07f9290b4",
            "f2cf258f1e974b828e9edf71ebc69939",
            "80913d24327f40509c5e952bce3137c0",
            "fd63c1e581e7474e8df2a4e0fc5ade37",
            "804e0d0f82b64b8694b2797c271ea1d1",
            "4eb8deb6696a4bb2b836f665c0d81cf7",
            "f519db61c0134a3095ea34a5b13a1d84",
            "8179311a30124b10a4ab477a81dfec26",
            "72eda9990b554a9c8cdbcac8d84033ee",
            "88f6393a3b9a402980ae770aaf93c061",
            "0c2b70c37768439fbb151758f704ddc2"
          ]
        },
        "id": "2XSLvWu04C3i",
        "outputId": "e50b7ed9-2241-4d56-9193-812f6bcb37b0"
      },
      "outputs": [
        {
          "output_type": "stream",
          "name": "stderr",
          "text": [
            "14:40 bilby INFO    : Waveform generator initiated with\n",
            "  frequency_domain_source_model: bilby.gw.source.lal_binary_black_hole\n",
            "  time_domain_source_model: None\n",
            "  parameter_conversion: bilby.gw.conversion.convert_to_lal_binary_black_hole_parameters\n",
            "14:40 bilby INFO    : Distance marginalisation file .distance_marginalization_lookup.npz does not exist\n",
            "14:40 bilby INFO    : Building lookup table for distance marginalisation.\n"
          ]
        },
        {
          "output_type": "display_data",
          "data": {
            "text/plain": [
              "  0%|          | 0/400 [00:00<?, ?it/s]"
            ],
            "application/vnd.jupyter.widget-view+json": {
              "version_major": 2,
              "version_minor": 0,
              "model_id": "0a67371f22394b628b8793d07f9290b4"
            }
          },
          "metadata": {}
        }
      ],
      "source": [
        "# First, put our \"data\" created above into a list of interferometers (the order is arbitrary)\n",
        "interferometers = [H1, L1]\n",
        "\n",
        "# Next create a dictionary of arguments which we pass into the LALSimulation waveform - we specify the waveform approximant here\n",
        "waveform_arguments = dict(\n",
        "    waveform_approximant='IMRPhenomXP', reference_frequency=100., catch_waveform_errors=True)\n",
        "\n",
        "# Next, create a waveform_generator object. This wraps up some of the jobs of converting between parameters etc\n",
        "waveform_generator = bilby.gw.WaveformGenerator(\n",
        "    frequency_domain_source_model=bilby.gw.source.lal_binary_black_hole,\n",
        "    waveform_arguments=waveform_arguments,\n",
        "    parameter_conversion=convert_to_lal_binary_black_hole_parameters)\n",
        "\n",
        "# Finally, create our likelihood, passing in what is needed to get going\n",
        "likelihood = bilby.gw.likelihood.GravitationalWaveTransient(\n",
        "    interferometers, waveform_generator, priors=prior,\n",
        "    time_marginalization=True, phase_marginalization=True, distance_marginalization=True)"
      ]
    },
    {
      "cell_type": "markdown",
      "metadata": {
        "id": "Rgl3yDms4C3i"
      },
      "source": [
        "Note that we also specify `time_marginalization=True`, `phase_marginalization=True`, and `distance_marginalization=True`. This is a trick often used in Bayesian inference. We analytically marginalize (integrate) over the time/phase of the system while sampling, effectively reducing the parameter space and making it easier to sample. Bilby will then figure out (after the sampling) posteriors for these marginalized parameters. For an introduction to this topic, see [Thrane & Talbot (2019)](https://arxiv.org/abs/1809.02293)."
      ]
    },
    {
      "cell_type": "markdown",
      "metadata": {
        "id": "AhpdJzj_4C3i"
      },
      "source": [
        "### Run the analysis"
      ]
    },
    {
      "cell_type": "markdown",
      "metadata": {
        "Collapsed": "false",
        "id": "LCfygeVyygvM"
      },
      "source": [
        "Now that the prior is set-up and the likelihood is set-up (with the data and the signal mode), we can run the sampler to get the posterior result. This function takes the likelihood and prior along with some options for how to do the sampling and how to save the data."
      ]
    },
    {
      "cell_type": "code",
      "execution_count": 19,
      "metadata": {
        "Collapsed": "false",
        "colab": {
          "base_uri": "https://localhost:8080/",
          "height": 995,
          "referenced_widgets": [
            "702d28a8e4b946afa55b3a324db74024",
            "ab5f061a7a374df98d0dd9cb0fa04da1",
            "c7dd67d6ddcb443596769f266853726d",
            "c908ceda556d4cd58194af03dd4e294b",
            "8251e6a5621d4331800f296af20173c6",
            "2d2ebf66882a4985959594223f5470f1",
            "f1f52929a59c45a0bed8f4a9829266ec",
            "8c5d3eddeed94294af4509d92a4c1056",
            "9997e14046604589984cdc43fca74af1",
            "b1c3675eba8a4e3cbdc801b713ee1d1c",
            "54aa0fa7ae8b4d83aef2c7191f36f1e4",
            "179f2429a6bc457aa258c905a3629f20",
            "d9ab01dd5b7341b0b85d217373619a6e",
            "1df25a03a4e049bcae76841941ab7b36",
            "32617cc19bc44d338bf095587612d343",
            "b954dfdc88ad43ec810fa39d8c8c47fe",
            "3a24a882b3fa470bb1da7a50e2b80a32",
            "cd1d91679de44b44a3251999eae0072b",
            "3df78f89f8ee40be82d1ed34fbb12cb5",
            "b1084d7b127c4b8b868aa6ef10f627de",
            "7df1aa0e8d7044c289823fb544672442",
            "5718889aa2c442a4a5dad7b7fa9e68fb",
            "322e22b00f0b4457980587080db913e4",
            "6097d74b7f2340b9985e60639c81c266",
            "10e426e27cb94a298b28ac988ecb86fc",
            "28fb6e9a51ac450488d731a48f533ef9",
            "9cacac1492a84279aabeca1e3478f5da",
            "c4982e60089246e4aea892934e7408bd",
            "51c84ac5eb5e4c1b9a4c1477263d4527",
            "f28c16a1d5834d9f962b15efc47fb085",
            "4846171dbec9426a8688f5c3fd2d19a2",
            "fe2e2366d03e4c71a3172850a8db3b90",
            "f9d752461901411487d8211e1467eec7",
            "663a823eeba3462faca763283db134ee",
            "88516a36d6444207ab6455214da5a2d1",
            "0fbad3b6b45d434db8aaf54a29a767ec",
            "785c9808d0904a4399494a6cc615af24",
            "78607a27df594336a9956e2173842f5a",
            "8e06a0528f654201acaa980968f0026d",
            "ebfbee16a3b848d0be5ac6edffacbd5b",
            "e392f010bf704750a20d36bdc9b5a4f9",
            "9da7db2d1c8f4fef9fae4ba2fd8370c8",
            "ddc4c9e3ec5c4bdb82e3c40d5546cccf",
            "8a930e1e13ed49a4854b7858a6401009",
            "c2447113d8d2479d8e41f2f7a9b64081",
            "8e873a3d649c4eba95585d05992ffbaf",
            "d6913840f00f4cddb64cde20f920a34a",
            "00fd60120ce441f683092fe57979d7c3",
            "58b3f9d12ce84010a462a8ad825b3e8d",
            "c9df7941180a47198a540c852182ed8c",
            "04560c51a58b4d769c7346b0bd045d5e",
            "0b823b49eb9e413f98fb149216149e0d",
            "b3175792571147b1ad14aabe3d5dc98a",
            "1ca13064f96e438884d778fcbb1f7e92",
            "a2cf5f538fb94d74a84c167bfc71905e"
          ]
        },
        "id": "HHS9JSX3ygvN",
        "outputId": "b5516d40-bb62-4928-f7ae-66b18732ca96",
        "tags": []
      },
      "outputs": [
        {
          "output_type": "stream",
          "name": "stderr",
          "text": [
            "14:42 bilby INFO    : Running for label 'GW150914', output will be saved to 'short'\n",
            "14:42 bilby INFO    : Using lal version 7.4.1\n",
            "14:42 bilby INFO    : Using lal git version Branch: None;Tag: lalsuite-v7.21;Id: cc61d073d248e45c3c75d3732ee642448f7bc008;;Builder: Unknown User <>;Repository status: CLEAN: All modifications committed\n",
            "14:42 bilby INFO    : Using lalsimulation version 5.3.1\n",
            "14:42 bilby INFO    : Using lalsimulation git version Branch: None;Tag: lalsuite-v7.21;Id: cc61d073d248e45c3c75d3732ee642448f7bc008;;Builder: Unknown User <>;Repository status: CLEAN: All modifications committed\n",
            "/usr/local/lib/python3.10/dist-packages/_distutils_hack/__init__.py:31: UserWarning: Setuptools is replacing distutils. Support for replacing an already imported distutils is deprecated. In the future, this condition will fail. Register concerns at https://github.com/pypa/setuptools/issues/new?template=distutils-deprecation.yml\n",
            "  warnings.warn(\n",
            "14:42 bilby INFO    : Analysis priors:\n",
            "14:42 bilby INFO    : chirp_mass=Uniform(minimum=30.0, maximum=32.5, name='chirp_mass', latex_label='$\\\\mathcal{M}$', unit=None, boundary=None)\n",
            "14:42 bilby INFO    : mass_ratio=Uniform(minimum=0.5, maximum=1, name='mass_ratio', latex_label='$q$', unit=None, boundary=None)\n",
            "14:42 bilby INFO    : time_jitter=Uniform(minimum=-0.000244140625, maximum=0.000244140625, name='time_jitter', latex_label='$t_j$', unit=None, boundary='periodic')\n",
            "14:42 bilby INFO    : phase=0.0\n",
            "14:42 bilby INFO    : geocent_time=1126259460.3999023\n",
            "14:42 bilby INFO    : a_1=0.0\n",
            "14:42 bilby INFO    : a_2=0.0\n",
            "14:42 bilby INFO    : tilt_1=0.0\n",
            "14:42 bilby INFO    : tilt_2=0.0\n",
            "14:42 bilby INFO    : phi_12=0.0\n",
            "14:42 bilby INFO    : phi_jl=0.0\n",
            "14:42 bilby INFO    : dec=-1.2232\n",
            "14:42 bilby INFO    : ra=2.19432\n",
            "14:42 bilby INFO    : theta_jn=1.89694\n",
            "14:42 bilby INFO    : psi=0.532268\n",
            "14:42 bilby INFO    : luminosity_distance=1587.4093196389506\n",
            "14:42 bilby INFO    : Analysis likelihood class: <class 'bilby.gw.likelihood.base.GravitationalWaveTransient'>\n",
            "14:42 bilby INFO    : Analysis likelihood noise evidence: -8534.561633624302\n",
            "14:42 bilby INFO    : Single likelihood evaluation took 5.136e-02 s\n",
            "14:42 bilby INFO    : Using sampler Dynesty with kwargs {'nlive': 250, 'bound': 'live', 'sample': 'act-walk', 'periodic': None, 'reflective': None, 'update_interval': 600, 'first_update': None, 'npdim': None, 'rstate': None, 'queue_size': 1, 'pool': None, 'use_pool': None, 'live_points': None, 'logl_args': None, 'logl_kwargs': None, 'ptform_args': None, 'ptform_kwargs': None, 'gradient': None, 'grad_args': None, 'grad_kwargs': None, 'compute_jac': False, 'enlarge': None, 'bootstrap': None, 'walks': 100, 'facc': 0.2, 'slices': None, 'fmove': 0.9, 'max_move': 100, 'update_func': None, 'ncdim': None, 'blob': False, 'save_history': False, 'history_filename': None, 'maxiter': None, 'maxcall': None, 'dlogz': 1.0, 'logl_max': inf, 'n_effective': None, 'add_live': True, 'print_progress': True, 'print_func': <bound method Dynesty._print_func of <bilby.core.sampler.dynesty.Dynesty object at 0x7c8e60c9fd00>>, 'save_bounds': False, 'checkpoint_file': None, 'checkpoint_every': 60, 'resume': False}\n",
            "14:42 bilby INFO    : Checkpoint every check_point_delta_t = 600s\n",
            "14:42 bilby INFO    : Using dynesty version 2.1.2\n",
            "14:42 bilby INFO    : Using the bilby-implemented act-walk sampling tracking the autocorrelation function and thinning by 2 with maximum length 10000\n",
            "14:42 bilby INFO    : Generating initial points from the prior\n"
          ]
        },
        {
          "output_type": "display_data",
          "data": {
            "text/plain": [
              "1it [00:00, ?it/s]"
            ],
            "application/vnd.jupyter.widget-view+json": {
              "version_major": 2,
              "version_minor": 0,
              "model_id": "702d28a8e4b946afa55b3a324db74024"
            }
          },
          "metadata": {}
        },
        {
          "output_type": "stream",
          "name": "stderr",
          "text": [
            "14:46 bilby INFO    : Written checkpoint file short/GW150914_resume.pickle\n",
            "14:46 bilby INFO    : Rejection sampling nested samples to obtain 300 posterior samples\n",
            "14:46 bilby INFO    : Sampling time: 0:03:53.166757\n"
          ]
        },
        {
          "output_type": "stream",
          "name": "stdout",
          "text": [
            "\n"
          ]
        },
        {
          "output_type": "stream",
          "name": "stderr",
          "text": [
            "14:46 bilby INFO    : Computing per-detector log likelihoods.\n"
          ]
        },
        {
          "output_type": "display_data",
          "data": {
            "text/plain": [
              "  0%|          | 0/300 [00:00<?, ?it/s]"
            ],
            "application/vnd.jupyter.widget-view+json": {
              "version_major": 2,
              "version_minor": 0,
              "model_id": "179f2429a6bc457aa258c905a3629f20"
            }
          },
          "metadata": {}
        },
        {
          "output_type": "stream",
          "name": "stderr",
          "text": [
            "14:46 bilby INFO    : Reconstructing marginalised parameters.\n"
          ]
        },
        {
          "output_type": "display_data",
          "data": {
            "text/plain": [
              "  0%|          | 0/300 [00:00<?, ?it/s]"
            ],
            "application/vnd.jupyter.widget-view+json": {
              "version_major": 2,
              "version_minor": 0,
              "model_id": "322e22b00f0b4457980587080db913e4"
            }
          },
          "metadata": {}
        },
        {
          "output_type": "stream",
          "name": "stderr",
          "text": [
            "14:47 bilby INFO    : Generating sky frame parameters.\n"
          ]
        },
        {
          "output_type": "display_data",
          "data": {
            "text/plain": [
              "  0%|          | 0/300 [00:00<?, ?it/s]"
            ],
            "application/vnd.jupyter.widget-view+json": {
              "version_major": 2,
              "version_minor": 0,
              "model_id": "663a823eeba3462faca763283db134ee"
            }
          },
          "metadata": {}
        },
        {
          "output_type": "stream",
          "name": "stderr",
          "text": [
            "14:47 bilby INFO    : Computing SNRs for every sample.\n"
          ]
        },
        {
          "output_type": "display_data",
          "data": {
            "text/plain": [
              "  0%|          | 0/300 [00:00<?, ?it/s]"
            ],
            "application/vnd.jupyter.widget-view+json": {
              "version_major": 2,
              "version_minor": 0,
              "model_id": "c2447113d8d2479d8e41f2f7a9b64081"
            }
          },
          "metadata": {}
        },
        {
          "output_type": "stream",
          "name": "stderr",
          "text": [
            "14:47 bilby INFO    : Summary of results:\n",
            "nsamples: 300\n",
            "ln_noise_evidence: -8534.562\n",
            "ln_evidence: -8249.970 +/-  0.205\n",
            "ln_bayes_factor: 284.592 +/-  0.205\n",
            "\n"
          ]
        }
      ],
      "source": [
        "result_short = bilby.run_sampler(\n",
        "    likelihood, prior, sampler='dynesty', outdir='short', label=\"GW150914\",\n",
        "    conversion_function=bilby.gw.conversion.generate_all_bbh_parameters,\n",
        "    nlive=250, dlogz=1.,  # <- Arguments are used to make things fast - not recommended for general use\n",
        "    clean=True,\n",
        ")"
      ]
    },
    {
      "cell_type": "markdown",
      "metadata": {
        "id": "g92V0sZn4C3l"
      },
      "source": [
        "### Looking at the outputs"
      ]
    },
    {
      "cell_type": "markdown",
      "metadata": {
        "Collapsed": "false",
        "id": "wKR045TIygvT"
      },
      "source": [
        "The `run_sampler` returned `result_short` - this is a Bilby result object. The posterior samples are stored in a [pandas data frame](https://pandas.pydata.org/pandas-docs/stable/reference/api/pandas.DataFrame.html) (think of this like a spreadsheet); let's take a look at it"
      ]
    },
    {
      "cell_type": "code",
      "execution_count": 20,
      "metadata": {
        "tags": [],
        "colab": {
          "base_uri": "https://localhost:8080/",
          "height": 443
        },
        "id": "T37j2JpC4C3l",
        "outputId": "62a9f3c8-29be-434a-f41d-0f1134238642"
      },
      "outputs": [
        {
          "output_type": "execute_result",
          "data": {
            "text/plain": [
              "     chirp_mass  mass_ratio  time_jitter     phase  geocent_time  a_1  a_2  \\\n",
              "0     30.343829    0.565373    -0.000025  1.306378  1.126259e+09  0.0  0.0   \n",
              "1     31.843592    0.849088    -0.000106  1.289644  1.126259e+09  0.0  0.0   \n",
              "2     30.910405    0.659021     0.000185  4.617103  1.126259e+09  0.0  0.0   \n",
              "3     30.095226    0.572282     0.000108  4.575844  1.126259e+09  0.0  0.0   \n",
              "4     30.407320    0.751529    -0.000077  4.754697  1.126259e+09  0.0  0.0   \n",
              "..          ...         ...          ...       ...           ...  ...  ...   \n",
              "295   31.167594    0.992390    -0.000116  1.456906  1.126259e+09  0.0  0.0   \n",
              "296   31.068302    0.919045    -0.000080  4.599621  1.126259e+09  0.0  0.0   \n",
              "297   31.040415    0.999235    -0.000007  4.650403  1.126259e+09  0.0  0.0   \n",
              "298   31.025551    0.953149    -0.000027  4.636713  1.126259e+09  0.0  0.0   \n",
              "299   31.122613    0.992495    -0.000092  1.546849  1.126259e+09  0.0  0.0   \n",
              "\n",
              "     tilt_1  tilt_2  phi_12  ...  chi_2_in_plane  chi_p  cos_tilt_1  \\\n",
              "0       0.0     0.0     0.0  ...             0.0    0.0         1.0   \n",
              "1       0.0     0.0     0.0  ...             0.0    0.0         1.0   \n",
              "2       0.0     0.0     0.0  ...             0.0    0.0         1.0   \n",
              "3       0.0     0.0     0.0  ...             0.0    0.0         1.0   \n",
              "4       0.0     0.0     0.0  ...             0.0    0.0         1.0   \n",
              "..      ...     ...     ...  ...             ...    ...         ...   \n",
              "295     0.0     0.0     0.0  ...             0.0    0.0         1.0   \n",
              "296     0.0     0.0     0.0  ...             0.0    0.0         1.0   \n",
              "297     0.0     0.0     0.0  ...             0.0    0.0         1.0   \n",
              "298     0.0     0.0     0.0  ...             0.0    0.0         1.0   \n",
              "299     0.0     0.0     0.0  ...             0.0    0.0         1.0   \n",
              "\n",
              "     cos_tilt_2  redshift  comoving_distance  mass_1_source  mass_2_source  \\\n",
              "0           1.0  0.061168         266.826630      44.036076      24.896814   \n",
              "1           1.0  0.062641         273.154431      37.381394      31.740075   \n",
              "2           1.0  0.066197         288.414987      41.200059      27.151717   \n",
              "3           1.0  0.062039         270.568899      43.360772      24.814603   \n",
              "4           1.0  0.061330         267.522006      38.040276      28.588377   \n",
              "..          ...       ...                ...            ...            ...   \n",
              "295         1.0  0.067924         295.815616      33.653349      33.397249   \n",
              "296         1.0  0.062610         273.019666      35.039559      32.202945   \n",
              "297         1.0  0.065765         286.562801      33.468639      33.443044   \n",
              "298         1.0  0.064959         283.102942      34.279734      32.673678   \n",
              "299         1.0  0.063013         274.750937      33.758251      33.504908   \n",
              "\n",
              "     chirp_mass_source total_mass_source  \n",
              "0            28.594739         68.932890  \n",
              "1            29.966462         69.121469  \n",
              "2            28.991262         68.351776  \n",
              "3            28.337210         68.175375  \n",
              "4            28.650202         66.628653  \n",
              "..                 ...               ...  \n",
              "295          29.185212         67.050597  \n",
              "296          29.237737         67.242504  \n",
              "297          29.124999         66.911683  \n",
              "298          29.133103         66.953413  \n",
              "299          29.277741         67.263159  \n",
              "\n",
              "[300 rows x 52 columns]"
            ],
            "text/html": [
              "\n",
              "  <div id=\"df-78a56595-f19d-4f1e-9610-36c544ae5bcf\" class=\"colab-df-container\">\n",
              "    <div>\n",
              "<style scoped>\n",
              "    .dataframe tbody tr th:only-of-type {\n",
              "        vertical-align: middle;\n",
              "    }\n",
              "\n",
              "    .dataframe tbody tr th {\n",
              "        vertical-align: top;\n",
              "    }\n",
              "\n",
              "    .dataframe thead th {\n",
              "        text-align: right;\n",
              "    }\n",
              "</style>\n",
              "<table border=\"1\" class=\"dataframe\">\n",
              "  <thead>\n",
              "    <tr style=\"text-align: right;\">\n",
              "      <th></th>\n",
              "      <th>chirp_mass</th>\n",
              "      <th>mass_ratio</th>\n",
              "      <th>time_jitter</th>\n",
              "      <th>phase</th>\n",
              "      <th>geocent_time</th>\n",
              "      <th>a_1</th>\n",
              "      <th>a_2</th>\n",
              "      <th>tilt_1</th>\n",
              "      <th>tilt_2</th>\n",
              "      <th>phi_12</th>\n",
              "      <th>...</th>\n",
              "      <th>chi_2_in_plane</th>\n",
              "      <th>chi_p</th>\n",
              "      <th>cos_tilt_1</th>\n",
              "      <th>cos_tilt_2</th>\n",
              "      <th>redshift</th>\n",
              "      <th>comoving_distance</th>\n",
              "      <th>mass_1_source</th>\n",
              "      <th>mass_2_source</th>\n",
              "      <th>chirp_mass_source</th>\n",
              "      <th>total_mass_source</th>\n",
              "    </tr>\n",
              "  </thead>\n",
              "  <tbody>\n",
              "    <tr>\n",
              "      <th>0</th>\n",
              "      <td>30.343829</td>\n",
              "      <td>0.565373</td>\n",
              "      <td>-0.000025</td>\n",
              "      <td>1.306378</td>\n",
              "      <td>1.126259e+09</td>\n",
              "      <td>0.0</td>\n",
              "      <td>0.0</td>\n",
              "      <td>0.0</td>\n",
              "      <td>0.0</td>\n",
              "      <td>0.0</td>\n",
              "      <td>...</td>\n",
              "      <td>0.0</td>\n",
              "      <td>0.0</td>\n",
              "      <td>1.0</td>\n",
              "      <td>1.0</td>\n",
              "      <td>0.061168</td>\n",
              "      <td>266.826630</td>\n",
              "      <td>44.036076</td>\n",
              "      <td>24.896814</td>\n",
              "      <td>28.594739</td>\n",
              "      <td>68.932890</td>\n",
              "    </tr>\n",
              "    <tr>\n",
              "      <th>1</th>\n",
              "      <td>31.843592</td>\n",
              "      <td>0.849088</td>\n",
              "      <td>-0.000106</td>\n",
              "      <td>1.289644</td>\n",
              "      <td>1.126259e+09</td>\n",
              "      <td>0.0</td>\n",
              "      <td>0.0</td>\n",
              "      <td>0.0</td>\n",
              "      <td>0.0</td>\n",
              "      <td>0.0</td>\n",
              "      <td>...</td>\n",
              "      <td>0.0</td>\n",
              "      <td>0.0</td>\n",
              "      <td>1.0</td>\n",
              "      <td>1.0</td>\n",
              "      <td>0.062641</td>\n",
              "      <td>273.154431</td>\n",
              "      <td>37.381394</td>\n",
              "      <td>31.740075</td>\n",
              "      <td>29.966462</td>\n",
              "      <td>69.121469</td>\n",
              "    </tr>\n",
              "    <tr>\n",
              "      <th>2</th>\n",
              "      <td>30.910405</td>\n",
              "      <td>0.659021</td>\n",
              "      <td>0.000185</td>\n",
              "      <td>4.617103</td>\n",
              "      <td>1.126259e+09</td>\n",
              "      <td>0.0</td>\n",
              "      <td>0.0</td>\n",
              "      <td>0.0</td>\n",
              "      <td>0.0</td>\n",
              "      <td>0.0</td>\n",
              "      <td>...</td>\n",
              "      <td>0.0</td>\n",
              "      <td>0.0</td>\n",
              "      <td>1.0</td>\n",
              "      <td>1.0</td>\n",
              "      <td>0.066197</td>\n",
              "      <td>288.414987</td>\n",
              "      <td>41.200059</td>\n",
              "      <td>27.151717</td>\n",
              "      <td>28.991262</td>\n",
              "      <td>68.351776</td>\n",
              "    </tr>\n",
              "    <tr>\n",
              "      <th>3</th>\n",
              "      <td>30.095226</td>\n",
              "      <td>0.572282</td>\n",
              "      <td>0.000108</td>\n",
              "      <td>4.575844</td>\n",
              "      <td>1.126259e+09</td>\n",
              "      <td>0.0</td>\n",
              "      <td>0.0</td>\n",
              "      <td>0.0</td>\n",
              "      <td>0.0</td>\n",
              "      <td>0.0</td>\n",
              "      <td>...</td>\n",
              "      <td>0.0</td>\n",
              "      <td>0.0</td>\n",
              "      <td>1.0</td>\n",
              "      <td>1.0</td>\n",
              "      <td>0.062039</td>\n",
              "      <td>270.568899</td>\n",
              "      <td>43.360772</td>\n",
              "      <td>24.814603</td>\n",
              "      <td>28.337210</td>\n",
              "      <td>68.175375</td>\n",
              "    </tr>\n",
              "    <tr>\n",
              "      <th>4</th>\n",
              "      <td>30.407320</td>\n",
              "      <td>0.751529</td>\n",
              "      <td>-0.000077</td>\n",
              "      <td>4.754697</td>\n",
              "      <td>1.126259e+09</td>\n",
              "      <td>0.0</td>\n",
              "      <td>0.0</td>\n",
              "      <td>0.0</td>\n",
              "      <td>0.0</td>\n",
              "      <td>0.0</td>\n",
              "      <td>...</td>\n",
              "      <td>0.0</td>\n",
              "      <td>0.0</td>\n",
              "      <td>1.0</td>\n",
              "      <td>1.0</td>\n",
              "      <td>0.061330</td>\n",
              "      <td>267.522006</td>\n",
              "      <td>38.040276</td>\n",
              "      <td>28.588377</td>\n",
              "      <td>28.650202</td>\n",
              "      <td>66.628653</td>\n",
              "    </tr>\n",
              "    <tr>\n",
              "      <th>...</th>\n",
              "      <td>...</td>\n",
              "      <td>...</td>\n",
              "      <td>...</td>\n",
              "      <td>...</td>\n",
              "      <td>...</td>\n",
              "      <td>...</td>\n",
              "      <td>...</td>\n",
              "      <td>...</td>\n",
              "      <td>...</td>\n",
              "      <td>...</td>\n",
              "      <td>...</td>\n",
              "      <td>...</td>\n",
              "      <td>...</td>\n",
              "      <td>...</td>\n",
              "      <td>...</td>\n",
              "      <td>...</td>\n",
              "      <td>...</td>\n",
              "      <td>...</td>\n",
              "      <td>...</td>\n",
              "      <td>...</td>\n",
              "      <td>...</td>\n",
              "    </tr>\n",
              "    <tr>\n",
              "      <th>295</th>\n",
              "      <td>31.167594</td>\n",
              "      <td>0.992390</td>\n",
              "      <td>-0.000116</td>\n",
              "      <td>1.456906</td>\n",
              "      <td>1.126259e+09</td>\n",
              "      <td>0.0</td>\n",
              "      <td>0.0</td>\n",
              "      <td>0.0</td>\n",
              "      <td>0.0</td>\n",
              "      <td>0.0</td>\n",
              "      <td>...</td>\n",
              "      <td>0.0</td>\n",
              "      <td>0.0</td>\n",
              "      <td>1.0</td>\n",
              "      <td>1.0</td>\n",
              "      <td>0.067924</td>\n",
              "      <td>295.815616</td>\n",
              "      <td>33.653349</td>\n",
              "      <td>33.397249</td>\n",
              "      <td>29.185212</td>\n",
              "      <td>67.050597</td>\n",
              "    </tr>\n",
              "    <tr>\n",
              "      <th>296</th>\n",
              "      <td>31.068302</td>\n",
              "      <td>0.919045</td>\n",
              "      <td>-0.000080</td>\n",
              "      <td>4.599621</td>\n",
              "      <td>1.126259e+09</td>\n",
              "      <td>0.0</td>\n",
              "      <td>0.0</td>\n",
              "      <td>0.0</td>\n",
              "      <td>0.0</td>\n",
              "      <td>0.0</td>\n",
              "      <td>...</td>\n",
              "      <td>0.0</td>\n",
              "      <td>0.0</td>\n",
              "      <td>1.0</td>\n",
              "      <td>1.0</td>\n",
              "      <td>0.062610</td>\n",
              "      <td>273.019666</td>\n",
              "      <td>35.039559</td>\n",
              "      <td>32.202945</td>\n",
              "      <td>29.237737</td>\n",
              "      <td>67.242504</td>\n",
              "    </tr>\n",
              "    <tr>\n",
              "      <th>297</th>\n",
              "      <td>31.040415</td>\n",
              "      <td>0.999235</td>\n",
              "      <td>-0.000007</td>\n",
              "      <td>4.650403</td>\n",
              "      <td>1.126259e+09</td>\n",
              "      <td>0.0</td>\n",
              "      <td>0.0</td>\n",
              "      <td>0.0</td>\n",
              "      <td>0.0</td>\n",
              "      <td>0.0</td>\n",
              "      <td>...</td>\n",
              "      <td>0.0</td>\n",
              "      <td>0.0</td>\n",
              "      <td>1.0</td>\n",
              "      <td>1.0</td>\n",
              "      <td>0.065765</td>\n",
              "      <td>286.562801</td>\n",
              "      <td>33.468639</td>\n",
              "      <td>33.443044</td>\n",
              "      <td>29.124999</td>\n",
              "      <td>66.911683</td>\n",
              "    </tr>\n",
              "    <tr>\n",
              "      <th>298</th>\n",
              "      <td>31.025551</td>\n",
              "      <td>0.953149</td>\n",
              "      <td>-0.000027</td>\n",
              "      <td>4.636713</td>\n",
              "      <td>1.126259e+09</td>\n",
              "      <td>0.0</td>\n",
              "      <td>0.0</td>\n",
              "      <td>0.0</td>\n",
              "      <td>0.0</td>\n",
              "      <td>0.0</td>\n",
              "      <td>...</td>\n",
              "      <td>0.0</td>\n",
              "      <td>0.0</td>\n",
              "      <td>1.0</td>\n",
              "      <td>1.0</td>\n",
              "      <td>0.064959</td>\n",
              "      <td>283.102942</td>\n",
              "      <td>34.279734</td>\n",
              "      <td>32.673678</td>\n",
              "      <td>29.133103</td>\n",
              "      <td>66.953413</td>\n",
              "    </tr>\n",
              "    <tr>\n",
              "      <th>299</th>\n",
              "      <td>31.122613</td>\n",
              "      <td>0.992495</td>\n",
              "      <td>-0.000092</td>\n",
              "      <td>1.546849</td>\n",
              "      <td>1.126259e+09</td>\n",
              "      <td>0.0</td>\n",
              "      <td>0.0</td>\n",
              "      <td>0.0</td>\n",
              "      <td>0.0</td>\n",
              "      <td>0.0</td>\n",
              "      <td>...</td>\n",
              "      <td>0.0</td>\n",
              "      <td>0.0</td>\n",
              "      <td>1.0</td>\n",
              "      <td>1.0</td>\n",
              "      <td>0.063013</td>\n",
              "      <td>274.750937</td>\n",
              "      <td>33.758251</td>\n",
              "      <td>33.504908</td>\n",
              "      <td>29.277741</td>\n",
              "      <td>67.263159</td>\n",
              "    </tr>\n",
              "  </tbody>\n",
              "</table>\n",
              "<p>300 rows × 52 columns</p>\n",
              "</div>\n",
              "    <div class=\"colab-df-buttons\">\n",
              "\n",
              "  <div class=\"colab-df-container\">\n",
              "    <button class=\"colab-df-convert\" onclick=\"convertToInteractive('df-78a56595-f19d-4f1e-9610-36c544ae5bcf')\"\n",
              "            title=\"Convert this dataframe to an interactive table.\"\n",
              "            style=\"display:none;\">\n",
              "\n",
              "  <svg xmlns=\"http://www.w3.org/2000/svg\" height=\"24px\" viewBox=\"0 -960 960 960\">\n",
              "    <path d=\"M120-120v-720h720v720H120Zm60-500h600v-160H180v160Zm220 220h160v-160H400v160Zm0 220h160v-160H400v160ZM180-400h160v-160H180v160Zm440 0h160v-160H620v160ZM180-180h160v-160H180v160Zm440 0h160v-160H620v160Z\"/>\n",
              "  </svg>\n",
              "    </button>\n",
              "\n",
              "  <style>\n",
              "    .colab-df-container {\n",
              "      display:flex;\n",
              "      gap: 12px;\n",
              "    }\n",
              "\n",
              "    .colab-df-convert {\n",
              "      background-color: #E8F0FE;\n",
              "      border: none;\n",
              "      border-radius: 50%;\n",
              "      cursor: pointer;\n",
              "      display: none;\n",
              "      fill: #1967D2;\n",
              "      height: 32px;\n",
              "      padding: 0 0 0 0;\n",
              "      width: 32px;\n",
              "    }\n",
              "\n",
              "    .colab-df-convert:hover {\n",
              "      background-color: #E2EBFA;\n",
              "      box-shadow: 0px 1px 2px rgba(60, 64, 67, 0.3), 0px 1px 3px 1px rgba(60, 64, 67, 0.15);\n",
              "      fill: #174EA6;\n",
              "    }\n",
              "\n",
              "    .colab-df-buttons div {\n",
              "      margin-bottom: 4px;\n",
              "    }\n",
              "\n",
              "    [theme=dark] .colab-df-convert {\n",
              "      background-color: #3B4455;\n",
              "      fill: #D2E3FC;\n",
              "    }\n",
              "\n",
              "    [theme=dark] .colab-df-convert:hover {\n",
              "      background-color: #434B5C;\n",
              "      box-shadow: 0px 1px 3px 1px rgba(0, 0, 0, 0.15);\n",
              "      filter: drop-shadow(0px 1px 2px rgba(0, 0, 0, 0.3));\n",
              "      fill: #FFFFFF;\n",
              "    }\n",
              "  </style>\n",
              "\n",
              "    <script>\n",
              "      const buttonEl =\n",
              "        document.querySelector('#df-78a56595-f19d-4f1e-9610-36c544ae5bcf button.colab-df-convert');\n",
              "      buttonEl.style.display =\n",
              "        google.colab.kernel.accessAllowed ? 'block' : 'none';\n",
              "\n",
              "      async function convertToInteractive(key) {\n",
              "        const element = document.querySelector('#df-78a56595-f19d-4f1e-9610-36c544ae5bcf');\n",
              "        const dataTable =\n",
              "          await google.colab.kernel.invokeFunction('convertToInteractive',\n",
              "                                                    [key], {});\n",
              "        if (!dataTable) return;\n",
              "\n",
              "        const docLinkHtml = 'Like what you see? Visit the ' +\n",
              "          '<a target=\"_blank\" href=https://colab.research.google.com/notebooks/data_table.ipynb>data table notebook</a>'\n",
              "          + ' to learn more about interactive tables.';\n",
              "        element.innerHTML = '';\n",
              "        dataTable['output_type'] = 'display_data';\n",
              "        await google.colab.output.renderOutput(dataTable, element);\n",
              "        const docLink = document.createElement('div');\n",
              "        docLink.innerHTML = docLinkHtml;\n",
              "        element.appendChild(docLink);\n",
              "      }\n",
              "    </script>\n",
              "  </div>\n",
              "\n",
              "\n",
              "<div id=\"df-e3074968-9ce3-4f04-801d-667c97ccbd26\">\n",
              "  <button class=\"colab-df-quickchart\" onclick=\"quickchart('df-e3074968-9ce3-4f04-801d-667c97ccbd26')\"\n",
              "            title=\"Suggest charts\"\n",
              "            style=\"display:none;\">\n",
              "\n",
              "<svg xmlns=\"http://www.w3.org/2000/svg\" height=\"24px\"viewBox=\"0 0 24 24\"\n",
              "     width=\"24px\">\n",
              "    <g>\n",
              "        <path d=\"M19 3H5c-1.1 0-2 .9-2 2v14c0 1.1.9 2 2 2h14c1.1 0 2-.9 2-2V5c0-1.1-.9-2-2-2zM9 17H7v-7h2v7zm4 0h-2V7h2v10zm4 0h-2v-4h2v4z\"/>\n",
              "    </g>\n",
              "</svg>\n",
              "  </button>\n",
              "\n",
              "<style>\n",
              "  .colab-df-quickchart {\n",
              "      --bg-color: #E8F0FE;\n",
              "      --fill-color: #1967D2;\n",
              "      --hover-bg-color: #E2EBFA;\n",
              "      --hover-fill-color: #174EA6;\n",
              "      --disabled-fill-color: #AAA;\n",
              "      --disabled-bg-color: #DDD;\n",
              "  }\n",
              "\n",
              "  [theme=dark] .colab-df-quickchart {\n",
              "      --bg-color: #3B4455;\n",
              "      --fill-color: #D2E3FC;\n",
              "      --hover-bg-color: #434B5C;\n",
              "      --hover-fill-color: #FFFFFF;\n",
              "      --disabled-bg-color: #3B4455;\n",
              "      --disabled-fill-color: #666;\n",
              "  }\n",
              "\n",
              "  .colab-df-quickchart {\n",
              "    background-color: var(--bg-color);\n",
              "    border: none;\n",
              "    border-radius: 50%;\n",
              "    cursor: pointer;\n",
              "    display: none;\n",
              "    fill: var(--fill-color);\n",
              "    height: 32px;\n",
              "    padding: 0;\n",
              "    width: 32px;\n",
              "  }\n",
              "\n",
              "  .colab-df-quickchart:hover {\n",
              "    background-color: var(--hover-bg-color);\n",
              "    box-shadow: 0 1px 2px rgba(60, 64, 67, 0.3), 0 1px 3px 1px rgba(60, 64, 67, 0.15);\n",
              "    fill: var(--button-hover-fill-color);\n",
              "  }\n",
              "\n",
              "  .colab-df-quickchart-complete:disabled,\n",
              "  .colab-df-quickchart-complete:disabled:hover {\n",
              "    background-color: var(--disabled-bg-color);\n",
              "    fill: var(--disabled-fill-color);\n",
              "    box-shadow: none;\n",
              "  }\n",
              "\n",
              "  .colab-df-spinner {\n",
              "    border: 2px solid var(--fill-color);\n",
              "    border-color: transparent;\n",
              "    border-bottom-color: var(--fill-color);\n",
              "    animation:\n",
              "      spin 1s steps(1) infinite;\n",
              "  }\n",
              "\n",
              "  @keyframes spin {\n",
              "    0% {\n",
              "      border-color: transparent;\n",
              "      border-bottom-color: var(--fill-color);\n",
              "      border-left-color: var(--fill-color);\n",
              "    }\n",
              "    20% {\n",
              "      border-color: transparent;\n",
              "      border-left-color: var(--fill-color);\n",
              "      border-top-color: var(--fill-color);\n",
              "    }\n",
              "    30% {\n",
              "      border-color: transparent;\n",
              "      border-left-color: var(--fill-color);\n",
              "      border-top-color: var(--fill-color);\n",
              "      border-right-color: var(--fill-color);\n",
              "    }\n",
              "    40% {\n",
              "      border-color: transparent;\n",
              "      border-right-color: var(--fill-color);\n",
              "      border-top-color: var(--fill-color);\n",
              "    }\n",
              "    60% {\n",
              "      border-color: transparent;\n",
              "      border-right-color: var(--fill-color);\n",
              "    }\n",
              "    80% {\n",
              "      border-color: transparent;\n",
              "      border-right-color: var(--fill-color);\n",
              "      border-bottom-color: var(--fill-color);\n",
              "    }\n",
              "    90% {\n",
              "      border-color: transparent;\n",
              "      border-bottom-color: var(--fill-color);\n",
              "    }\n",
              "  }\n",
              "</style>\n",
              "\n",
              "  <script>\n",
              "    async function quickchart(key) {\n",
              "      const quickchartButtonEl =\n",
              "        document.querySelector('#' + key + ' button');\n",
              "      quickchartButtonEl.disabled = true;  // To prevent multiple clicks.\n",
              "      quickchartButtonEl.classList.add('colab-df-spinner');\n",
              "      try {\n",
              "        const charts = await google.colab.kernel.invokeFunction(\n",
              "            'suggestCharts', [key], {});\n",
              "      } catch (error) {\n",
              "        console.error('Error during call to suggestCharts:', error);\n",
              "      }\n",
              "      quickchartButtonEl.classList.remove('colab-df-spinner');\n",
              "      quickchartButtonEl.classList.add('colab-df-quickchart-complete');\n",
              "    }\n",
              "    (() => {\n",
              "      let quickchartButtonEl =\n",
              "        document.querySelector('#df-e3074968-9ce3-4f04-801d-667c97ccbd26 button');\n",
              "      quickchartButtonEl.style.display =\n",
              "        google.colab.kernel.accessAllowed ? 'block' : 'none';\n",
              "    })();\n",
              "  </script>\n",
              "</div>\n",
              "\n",
              "    </div>\n",
              "  </div>\n"
            ],
            "application/vnd.google.colaboratory.intrinsic+json": {
              "type": "dataframe"
            }
          },
          "metadata": {},
          "execution_count": 20
        }
      ],
      "source": [
        "result_short.posterior"
      ]
    },
    {
      "cell_type": "markdown",
      "metadata": {
        "id": "40di-Qic4C3l"
      },
      "source": [
        "We can pull out specific parameters that we are interested in"
      ]
    },
    {
      "cell_type": "code",
      "execution_count": 21,
      "metadata": {
        "tags": [],
        "colab": {
          "base_uri": "https://localhost:8080/",
          "height": 458
        },
        "id": "1DFY_iS64C3m",
        "outputId": "8f649a0b-49e9-47f1-e389-9c09ffa3e3a8"
      },
      "outputs": [
        {
          "output_type": "execute_result",
          "data": {
            "text/plain": [
              "0      30.343829\n",
              "1      31.843592\n",
              "2      30.910405\n",
              "3      30.095226\n",
              "4      30.407320\n",
              "         ...    \n",
              "295    31.167594\n",
              "296    31.068302\n",
              "297    31.040415\n",
              "298    31.025551\n",
              "299    31.122613\n",
              "Name: chirp_mass, Length: 300, dtype: float64"
            ],
            "text/html": [
              "<div>\n",
              "<style scoped>\n",
              "    .dataframe tbody tr th:only-of-type {\n",
              "        vertical-align: middle;\n",
              "    }\n",
              "\n",
              "    .dataframe tbody tr th {\n",
              "        vertical-align: top;\n",
              "    }\n",
              "\n",
              "    .dataframe thead th {\n",
              "        text-align: right;\n",
              "    }\n",
              "</style>\n",
              "<table border=\"1\" class=\"dataframe\">\n",
              "  <thead>\n",
              "    <tr style=\"text-align: right;\">\n",
              "      <th></th>\n",
              "      <th>chirp_mass</th>\n",
              "    </tr>\n",
              "  </thead>\n",
              "  <tbody>\n",
              "    <tr>\n",
              "      <th>0</th>\n",
              "      <td>30.343829</td>\n",
              "    </tr>\n",
              "    <tr>\n",
              "      <th>1</th>\n",
              "      <td>31.843592</td>\n",
              "    </tr>\n",
              "    <tr>\n",
              "      <th>2</th>\n",
              "      <td>30.910405</td>\n",
              "    </tr>\n",
              "    <tr>\n",
              "      <th>3</th>\n",
              "      <td>30.095226</td>\n",
              "    </tr>\n",
              "    <tr>\n",
              "      <th>4</th>\n",
              "      <td>30.407320</td>\n",
              "    </tr>\n",
              "    <tr>\n",
              "      <th>...</th>\n",
              "      <td>...</td>\n",
              "    </tr>\n",
              "    <tr>\n",
              "      <th>295</th>\n",
              "      <td>31.167594</td>\n",
              "    </tr>\n",
              "    <tr>\n",
              "      <th>296</th>\n",
              "      <td>31.068302</td>\n",
              "    </tr>\n",
              "    <tr>\n",
              "      <th>297</th>\n",
              "      <td>31.040415</td>\n",
              "    </tr>\n",
              "    <tr>\n",
              "      <th>298</th>\n",
              "      <td>31.025551</td>\n",
              "    </tr>\n",
              "    <tr>\n",
              "      <th>299</th>\n",
              "      <td>31.122613</td>\n",
              "    </tr>\n",
              "  </tbody>\n",
              "</table>\n",
              "<p>300 rows × 1 columns</p>\n",
              "</div><br><label><b>dtype:</b> float64</label>"
            ]
          },
          "metadata": {},
          "execution_count": 21
        }
      ],
      "source": [
        "result_short.posterior[\"chirp_mass\"]"
      ]
    },
    {
      "cell_type": "markdown",
      "metadata": {
        "id": "2cJVNnP04C3m"
      },
      "source": [
        "This returned another `pandas` object. If you just want to get the numbers as a numpy array run"
      ]
    },
    {
      "cell_type": "code",
      "execution_count": 22,
      "metadata": {
        "tags": [],
        "id": "F_IMgGpL4C3m"
      },
      "outputs": [],
      "source": [
        "Mc = result_short.posterior[\"chirp_mass\"].values"
      ]
    },
    {
      "cell_type": "markdown",
      "metadata": {
        "id": "r6a_a9Z94C3m"
      },
      "source": [
        "We can then get some useful quantities such as the 90\\% credible interval"
      ]
    },
    {
      "cell_type": "code",
      "execution_count": 23,
      "metadata": {
        "tags": [],
        "colab": {
          "base_uri": "https://localhost:8080/",
          "height": 0
        },
        "id": "6LWMTlMI4C3m",
        "outputId": "38909f7f-c0cf-496a-f99e-8de107a1150b"
      },
      "outputs": [
        {
          "output_type": "stream",
          "name": "stdout",
          "text": [
            "Mc = 31.010110243083616 with a 90% C.I = 30.55363691985035 -> 31.406791070499875\n"
          ]
        }
      ],
      "source": [
        "lower_bound = np.quantile(Mc, 0.05)\n",
        "upper_bound = np.quantile(Mc, 0.95)\n",
        "median = np.quantile(Mc, 0.5)\n",
        "print(\"Mc = {} with a 90% C.I = {} -> {}\".format(median, lower_bound, upper_bound))"
      ]
    },
    {
      "cell_type": "markdown",
      "metadata": {
        "id": "o_ou9eDA4C3m"
      },
      "source": [
        "We can then plot the chirp mass in a histogram adding a region to indicate the 90\\% C.I."
      ]
    },
    {
      "cell_type": "code",
      "execution_count": 24,
      "metadata": {
        "tags": [],
        "colab": {
          "base_uri": "https://localhost:8080/",
          "height": 460
        },
        "id": "gd6j83SG4C3m",
        "outputId": "a8d207dc-b266-4da0-e615-c3f7b4f59386"
      },
      "outputs": [
        {
          "output_type": "display_data",
          "data": {
            "text/plain": [
              "<Figure size 640x480 with 1 Axes>"
            ],
            "image/png": "[encoded data removed]"
          },
          "metadata": {}
        }
      ],
      "source": [
        "fig, ax = plt.subplots()\n",
        "ax.hist(result_short.posterior[\"chirp_mass\"], bins=20)\n",
        "ax.axvspan(lower_bound, upper_bound, color='C1', alpha=0.4)\n",
        "ax.axvline(median, color='C1')\n",
        "ax.set_xlabel(\"chirp mass\")\n",
        "plt.show()"
      ]
    },
    {
      "cell_type": "markdown",
      "metadata": {
        "id": "O5tq0w0p4C3m"
      },
      "source": [
        "The result object also has in-built methods to make nice plots such as corner plots. You can add the priors if you are only plotting parameters which you sampled in, e.g."
      ]
    },
    {
      "cell_type": "code",
      "execution_count": 25,
      "metadata": {
        "tags": [],
        "colab": {
          "base_uri": "https://localhost:8080/",
          "height": 983
        },
        "id": "XlYJQK1R4C3n",
        "outputId": "a27cc575-2532-43d7-fb7f-02bf9cb1f63f"
      },
      "outputs": [
        {
          "output_type": "execute_result",
          "data": {
            "text/plain": [
              "<Figure size 970x970 with 16 Axes>"
            ],
            "image/png": "[encoded data removed]"
          },
          "metadata": {},
          "execution_count": 25
        }
      ],
      "source": [
        "result_short.plot_corner(parameters=[\"chirp_mass\", \"mass_ratio\", \"geocent_time\", \"phase\"], prior=True)"
      ]
    },
    {
      "cell_type": "markdown",
      "metadata": {
        "id": "mhOF7GUp4C3n"
      },
      "source": [
        "You can also plot lines indicating specific points. Here, we add the values recorded on [GWOSC](https://www.gw-openscience.org/events/GW150914/). Notably, these fall outside the bulk of the posterior uncertainty here. This is because we limited our prior to a non-spinning analysis - if instead we ran the full analysis these agree nicely."
      ]
    },
    {
      "cell_type": "code",
      "execution_count": 26,
      "metadata": {
        "Collapsed": "false",
        "colab": {
          "base_uri": "https://localhost:8080/",
          "height": 558
        },
        "id": "SB4AqmTaygvU",
        "outputId": "7f1921dc-0703-4620-9d41-1d8adaa9449a",
        "tags": []
      },
      "outputs": [
        {
          "output_type": "execute_result",
          "data": {
            "text/plain": [
              "<Figure size 550x550 with 4 Axes>"
            ],
            "image/png": "[encoded data removed]"
          },
          "metadata": {},
          "execution_count": 26
        }
      ],
      "source": [
        "parameters = dict(mass_1=36.2, mass_2=29.1)\n",
        "result_short.plot_corner(parameters)"
      ]
    },
    {
      "cell_type": "markdown",
      "metadata": {
        "id": "IR9QQo984C3n"
      },
      "source": [
        "Earlier we discussed the \"correlation\" - in this plot we start to see the correlation between $m_1$ and $m_2$."
      ]
    },
    {
      "cell_type": "markdown",
      "metadata": {
        "id": "EJlfIdHT4C3n"
      },
      "source": [
        "### Meta data\n",
        "The result object also stores meta data, like the priors"
      ]
    },
    {
      "cell_type": "code",
      "execution_count": 27,
      "metadata": {
        "tags": [],
        "colab": {
          "base_uri": "https://localhost:8080/",
          "height": 0
        },
        "id": "cqeBJtWL4C3n",
        "outputId": "48beaae1-7a43-48f2-fdd7-5a7173ff28c1"
      },
      "outputs": [
        {
          "output_type": "execute_result",
          "data": {
            "text/plain": [
              "{'chirp_mass': Uniform(minimum=30.0, maximum=32.5, name='chirp_mass', latex_label='$\\\\mathcal{M}$', unit=None, boundary=None),\n",
              " 'mass_ratio': Uniform(minimum=0.5, maximum=1, name='mass_ratio', latex_label='$q$', unit=None, boundary=None),\n",
              " 'phase': Uniform(minimum=0, maximum=6.283185307179586, name='phase', latex_label='$\\\\phi$', unit=None, boundary=None),\n",
              " 'geocent_time': Uniform(minimum=1126259462.3000002, maximum=1126259462.5, name='geocent_time', latex_label='$t_c$', unit=None, boundary=None),\n",
              " 'a_1': DeltaFunction(peak=0.0, name=None, latex_label=None, unit=None),\n",
              " 'a_2': DeltaFunction(peak=0.0, name=None, latex_label=None, unit=None),\n",
              " 'tilt_1': DeltaFunction(peak=0.0, name=None, latex_label=None, unit=None),\n",
              " 'tilt_2': DeltaFunction(peak=0.0, name=None, latex_label=None, unit=None),\n",
              " 'phi_12': DeltaFunction(peak=0.0, name=None, latex_label=None, unit=None),\n",
              " 'phi_jl': DeltaFunction(peak=0.0, name=None, latex_label=None, unit=None),\n",
              " 'dec': DeltaFunction(peak=-1.2232, name=None, latex_label=None, unit=None),\n",
              " 'ra': DeltaFunction(peak=2.19432, name=None, latex_label=None, unit=None),\n",
              " 'theta_jn': DeltaFunction(peak=1.89694, name=None, latex_label=None, unit=None),\n",
              " 'psi': DeltaFunction(peak=0.532268, name=None, latex_label=None, unit=None),\n",
              " 'luminosity_distance': PowerLaw(alpha=2, minimum=50, maximum=2000, name='luminosity_distance', latex_label='$d_L$', unit='Mpc', boundary=None),\n",
              " 'time_jitter': Uniform(minimum=-0.000244140625, maximum=0.000244140625, name='time_jitter', latex_label='$t_j$', unit=None, boundary='periodic')}"
            ]
          },
          "metadata": {},
          "execution_count": 27
        }
      ],
      "source": [
        "result_short.priors"
      ]
    },
    {
      "cell_type": "markdown",
      "metadata": {
        "id": "EV-U240Z4C3n"
      },
      "source": [
        "and details of the analysis itself:"
      ]
    },
    {
      "cell_type": "code",
      "execution_count": 28,
      "metadata": {
        "tags": [],
        "colab": {
          "base_uri": "https://localhost:8080/",
          "height": 0
        },
        "id": "N8SHwgyN4C3o",
        "outputId": "b2a6e24b-02f1-4fcd-ed37-f4497fb83960"
      },
      "outputs": [
        {
          "output_type": "execute_result",
          "data": {
            "text/plain": [
              "250"
            ]
          },
          "metadata": {},
          "execution_count": 28
        }
      ],
      "source": [
        "result_short.sampler_kwargs[\"nlive\"]"
      ]
    },
    {
      "cell_type": "markdown",
      "metadata": {
        "id": "rzYIPe_K4C3o"
      },
      "source": [
        "Finally, we can also get out the Bayes factor for the signal vs. Gaussian noise. This is a good indicator of how much the hypothesis that the analyzed segment contains a binary black hole signal is reliable compared to that assuming it just contains noise."
      ]
    },
    {
      "cell_type": "code",
      "execution_count": 29,
      "metadata": {
        "tags": [],
        "colab": {
          "base_uri": "https://localhost:8080/",
          "height": 0
        },
        "id": "dCpCFBqc4C3o",
        "outputId": "52e5348e-31e8-4083-f27b-cdbfd4893528"
      },
      "outputs": [
        {
          "output_type": "stream",
          "name": "stdout",
          "text": [
            "ln Bayes factor = 284.5916888156731 +/- 0.2049524128339875\n"
          ]
        }
      ],
      "source": [
        "print(\"ln Bayes factor = {} +/- {}\".format(\n",
        "    result_short.log_bayes_factor, result_short.log_evidence_err))"
      ]
    },
    {
      "cell_type": "markdown",
      "metadata": {
        "id": "I_jMHH0X4C3o"
      },
      "source": [
        "## Challenge questions\n",
        "First, let's take a closer look at the result obtained with the run above. What are the means of the chirp mass and mass ratio distributions? What are the medians of the distributions for the components masses? You can use `np.mean` and `np.median` to calculate these.\n",
        "\n",
        "### Optional questions\n",
        "Now let's expand on this example a bit. Rerun the analysis above but change the prior on the distance from a delta function to `bilby.core.prior.PowerLaw(alpha=2., minimum=50., maximum=800., name='luminosity_distance')`. You should also replace `sample='unif'` with `sample=\"rwalk\", nact=1, walks=1` in your call to `bilby.run_sampler` above. This will take a bit longer than the original run, around ~20 minutes (something more if you are running on Colab or MyBinder). You also need to change the `label` in the call to `run_sampler` to avoid over-writing your results.\n",
        "\n",
        "What is the median reported value of the distance posterior? What is the new log Bayes factor for signal vs. Gaussian noise? Don't be alarmed if your results do not match the official LVC results, as these are not rigorous settings."
      ]
    },
    {
      "cell_type": "code",
      "execution_count": 30,
      "metadata": {
        "colab": {
          "base_uri": "https://localhost:8080/",
          "height": 0
        },
        "id": "eBvXwyHL4C3o",
        "outputId": "855fcf70-d19b-4c81-f237-2eea7563ec1b"
      },
      "outputs": [
        {
          "output_type": "stream",
          "name": "stdout",
          "text": [
            "Mean of chirp mass distribution: 31.00534789645072\n",
            "Mean of mass ratio distribution: 0.8739951798565173\n",
            "Median of component mass m1: 22.466106683771333\n",
            "Median of component mass m2: 22.944958405318058\n"
          ]
        }
      ],
      "source": [
        "# prompt: mean of chirp mass, mass ratio distribution, median of the distribution\n",
        "\n",
        "# Calculate the mean of the chirp mass distribution\n",
        "chirp_mass_mean = np.mean(result_short.posterior[\"chirp_mass\"])\n",
        "print(f\"Mean of chirp mass distribution: {chirp_mass_mean}\")\n",
        "\n",
        "# Calculate the mean of the mass ratio distribution\n",
        "mass_ratio_mean = np.mean(result_short.posterior[\"mass_ratio\"])\n",
        "print(f\"Mean of mass ratio distribution: {mass_ratio_mean}\")\n",
        "\n",
        "# Calculate component masses from chirp mass and mass ratio\n",
        "m1 = result_short.posterior[\"chirp_mass\"].values * (result_short.posterior[\"mass_ratio\"].values**(3/5)) / ((1 + result_short.posterior[\"mass_ratio\"].values)**(2/5))\n",
        "m2 = result_short.posterior[\"chirp_mass\"].values * (1**(3/5)) / ((1 + (1/result_short.posterior[\"mass_ratio\"].values))**(2/5))\n",
        "# Calculate the median of the component mass distributions\n",
        "m1_median = np.median(m1)\n",
        "print(f\"Median of component mass m1: {m1_median}\")\n",
        "m2_median = np.median(m2)\n",
        "print(f\"Median of component mass m2: {m2_median}\")"
      ]
    },
    {
      "cell_type": "code",
      "source": [],
      "metadata": {
        "id": "NT0fu9o9TQ-T"
      },
      "execution_count": null,
      "outputs": []
    }
  ],
  "metadata": {
    "colab": {
      "name": "Tuto_3.2_Parameter_estimation_for_compact_object_mergers.ipynb",
      "provenance": []
    },
    "kernelspec": {
      "display_name": "Python 3 (ipykernel)",
      "language": "python",
      "name": "python3"
    },
    "language_info": {
      "codemirror_mode": {
        "name": "ipython",
        "version": 3
      },
      "file_extension": ".py",
      "mimetype": "text/x-python",
      "name": "python",
      "nbconvert_exporter": "python",
      "pygments_lexer": "ipython3",
      "version": "3.9.19"
    },
    "widgets": {
      "application/vnd.jupyter.widget-state+json": {
        "0a67371f22394b628b8793d07f9290b4": {
          "model_module": "@jupyter-widgets/controls",
          "model_name": "HBoxModel",
          "model_module_version": "1.5.0",
          "state": {
            "_dom_classes": [],
            "_model_module": "@jupyter-widgets/controls",
            "_model_module_version": "1.5.0",
            "_model_name": "HBoxModel",
            "_view_count": null,
            "_view_module": "@jupyter-widgets/controls",
            "_view_module_version": "1.5.0",
            "_view_name": "HBoxView",
            "box_style": "",
            "children": [
              "IPY_MODEL_f2cf258f1e974b828e9edf71ebc69939",
              "IPY_MODEL_80913d24327f40509c5e952bce3137c0",
              "IPY_MODEL_fd63c1e581e7474e8df2a4e0fc5ade37"
            ],
            "layout": "IPY_MODEL_804e0d0f82b64b8694b2797c271ea1d1"
          }
        },
        "f2cf258f1e974b828e9edf71ebc69939": {
          "model_module": "@jupyter-widgets/controls",
          "model_name": "HTMLModel",
          "model_module_version": "1.5.0",
          "state": {
            "_dom_classes": [],
            "_model_module": "@jupyter-widgets/controls",
            "_model_module_version": "1.5.0",
            "_model_name": "HTMLModel",
            "_view_count": null,
            "_view_module": "@jupyter-widgets/controls",
            "_view_module_version": "1.5.0",
            "_view_name": "HTMLView",
            "description": "",
            "description_tooltip": null,
            "layout": "IPY_MODEL_4eb8deb6696a4bb2b836f665c0d81cf7",
            "placeholder": "​",
            "style": "IPY_MODEL_f519db61c0134a3095ea34a5b13a1d84",
            "value": "100%"
          }
        },
        "80913d24327f40509c5e952bce3137c0": {
          "model_module": "@jupyter-widgets/controls",
          "model_name": "FloatProgressModel",
          "model_module_version": "1.5.0",
          "state": {
            "_dom_classes": [],
            "_model_module": "@jupyter-widgets/controls",
            "_model_module_version": "1.5.0",
            "_model_name": "FloatProgressModel",
            "_view_count": null,
            "_view_module": "@jupyter-widgets/controls",
            "_view_module_version": "1.5.0",
            "_view_name": "ProgressView",
            "bar_style": "success",
            "description": "",
            "description_tooltip": null,
            "layout": "IPY_MODEL_8179311a30124b10a4ab477a81dfec26",
            "max": 400,
            "min": 0,
            "orientation": "horizontal",
            "style": "IPY_MODEL_72eda9990b554a9c8cdbcac8d84033ee",
            "value": 400
          }
        },
        "fd63c1e581e7474e8df2a4e0fc5ade37": {
          "model_module": "@jupyter-widgets/controls",
          "model_name": "HTMLModel",
          "model_module_version": "1.5.0",
          "state": {
            "_dom_classes": [],
            "_model_module": "@jupyter-widgets/controls",
            "_model_module_version": "1.5.0",
            "_model_name": "HTMLModel",
            "_view_count": null,
            "_view_module": "@jupyter-widgets/controls",
            "_view_module_version": "1.5.0",
            "_view_name": "HTMLView",
            "description": "",
            "description_tooltip": null,
            "layout": "IPY_MODEL_88f6393a3b9a402980ae770aaf93c061",
            "placeholder": "​",
            "style": "IPY_MODEL_0c2b70c37768439fbb151758f704ddc2",
            "value": " 400/400 [01:34&lt;00:00,  4.44it/s]"
          }
        },
        "804e0d0f82b64b8694b2797c271ea1d1": {
          "model_module": "@jupyter-widgets/base",
          "model_name": "LayoutModel",
          "model_module_version": "1.2.0",
          "state": {
            "_model_module": "@jupyter-widgets/base",
            "_model_module_version": "1.2.0",
            "_model_name": "LayoutModel",
            "_view_count": null,
            "_view_module": "@jupyter-widgets/base",
            "_view_module_version": "1.2.0",
            "_view_name": "LayoutView",
            "align_content": null,
            "align_items": null,
            "align_self": null,
            "border": null,
            "bottom": null,
            "display": null,
            "flex": null,
            "flex_flow": null,
            "grid_area": null,
            "grid_auto_columns": null,
            "grid_auto_flow": null,
            "grid_auto_rows": null,
            "grid_column": null,
            "grid_gap": null,
            "grid_row": null,
            "grid_template_areas": null,
            "grid_template_columns": null,
            "grid_template_rows": null,
            "height": null,
            "justify_content": null,
            "justify_items": null,
            "left": null,
            "margin": null,
            "max_height": null,
            "max_width": null,
            "min_height": null,
            "min_width": null,
            "object_fit": null,
            "object_position": null,
            "order": null,
            "overflow": null,
            "overflow_x": null,
            "overflow_y": null,
            "padding": null,
            "right": null,
            "top": null,
            "visibility": null,
            "width": null
          }
        },
        "4eb8deb6696a4bb2b836f665c0d81cf7": {
          "model_module": "@jupyter-widgets/base",
          "model_name": "LayoutModel",
          "model_module_version": "1.2.0",
          "state": {
            "_model_module": "@jupyter-widgets/base",
            "_model_module_version": "1.2.0",
            "_model_name": "LayoutModel",
            "_view_count": null,
            "_view_module": "@jupyter-widgets/base",
            "_view_module_version": "1.2.0",
            "_view_name": "LayoutView",
            "align_content": null,
            "align_items": null,
            "align_self": null,
            "border": null,
            "bottom": null,
            "display": null,
            "flex": null,
            "flex_flow": null,
            "grid_area": null,
            "grid_auto_columns": null,
            "grid_auto_flow": null,
            "grid_auto_rows": null,
            "grid_column": null,
            "grid_gap": null,
            "grid_row": null,
            "grid_template_areas": null,
            "grid_template_columns": null,
            "grid_template_rows": null,
            "height": null,
            "justify_content": null,
            "justify_items": null,
            "left": null,
            "margin": null,
            "max_height": null,
            "max_width": null,
            "min_height": null,
            "min_width": null,
            "object_fit": null,
            "object_position": null,
            "order": null,
            "overflow": null,
            "overflow_x": null,
            "overflow_y": null,
            "padding": null,
            "right": null,
            "top": null,
            "visibility": null,
            "width": null
          }
        },
        "f519db61c0134a3095ea34a5b13a1d84": {
          "model_module": "@jupyter-widgets/controls",
          "model_name": "DescriptionStyleModel",
          "model_module_version": "1.5.0",
          "state": {
            "_model_module": "@jupyter-widgets/controls",
            "_model_module_version": "1.5.0",
            "_model_name": "DescriptionStyleModel",
            "_view_count": null,
            "_view_module": "@jupyter-widgets/base",
            "_view_module_version": "1.2.0",
            "_view_name": "StyleView",
            "description_width": ""
          }
        },
        "8179311a30124b10a4ab477a81dfec26": {
          "model_module": "@jupyter-widgets/base",
          "model_name": "LayoutModel",
          "model_module_version": "1.2.0",
          "state": {
            "_model_module": "@jupyter-widgets/base",
            "_model_module_version": "1.2.0",
            "_model_name": "LayoutModel",
            "_view_count": null,
            "_view_module": "@jupyter-widgets/base",
            "_view_module_version": "1.2.0",
            "_view_name": "LayoutView",
            "align_content": null,
            "align_items": null,
            "align_self": null,
            "border": null,
            "bottom": null,
            "display": null,
            "flex": null,
            "flex_flow": null,
            "grid_area": null,
            "grid_auto_columns": null,
            "grid_auto_flow": null,
            "grid_auto_rows": null,
            "grid_column": null,
            "grid_gap": null,
            "grid_row": null,
            "grid_template_areas": null,
            "grid_template_columns": null,
            "grid_template_rows": null,
            "height": null,
            "justify_content": null,
            "justify_items": null,
            "left": null,
            "margin": null,
            "max_height": null,
            "max_width": null,
            "min_height": null,
            "min_width": null,
            "object_fit": null,
            "object_position": null,
            "order": null,
            "overflow": null,
            "overflow_x": null,
            "overflow_y": null,
            "padding": null,
            "right": null,
            "top": null,
            "visibility": null,
            "width": null
          }
        },
        "72eda9990b554a9c8cdbcac8d84033ee": {
          "model_module": "@jupyter-widgets/controls",
          "model_name": "ProgressStyleModel",
          "model_module_version": "1.5.0",
          "state": {
            "_model_module": "@jupyter-widgets/controls",
            "_model_module_version": "1.5.0",
            "_model_name": "ProgressStyleModel",
            "_view_count": null,
            "_view_module": "@jupyter-widgets/base",
            "_view_module_version": "1.2.0",
            "_view_name": "StyleView",
            "bar_color": null,
            "description_width": ""
          }
        },
        "88f6393a3b9a402980ae770aaf93c061": {
          "model_module": "@jupyter-widgets/base",
          "model_name": "LayoutModel",
          "model_module_version": "1.2.0",
          "state": {
            "_model_module": "@jupyter-widgets/base",
            "_model_module_version": "1.2.0",
            "_model_name": "LayoutModel",
            "_view_count": null,
            "_view_module": "@jupyter-widgets/base",
            "_view_module_version": "1.2.0",
            "_view_name": "LayoutView",
            "align_content": null,
            "align_items": null,
            "align_self": null,
            "border": null,
            "bottom": null,
            "display": null,
            "flex": null,
            "flex_flow": null,
            "grid_area": null,
            "grid_auto_columns": null,
            "grid_auto_flow": null,
            "grid_auto_rows": null,
            "grid_column": null,
            "grid_gap": null,
            "grid_row": null,
            "grid_template_areas": null,
            "grid_template_columns": null,
            "grid_template_rows": null,
            "height": null,
            "justify_content": null,
            "justify_items": null,
            "left": null,
            "margin": null,
            "max_height": null,
            "max_width": null,
            "min_height": null,
            "min_width": null,
            "object_fit": null,
            "object_position": null,
            "order": null,
            "overflow": null,
            "overflow_x": null,
            "overflow_y": null,
            "padding": null,
            "right": null,
            "top": null,
            "visibility": null,
            "width": null
          }
        },
        "0c2b70c37768439fbb151758f704ddc2": {
          "model_module": "@jupyter-widgets/controls",
          "model_name": "DescriptionStyleModel",
          "model_module_version": "1.5.0",
          "state": {
            "_model_module": "@jupyter-widgets/controls",
            "_model_module_version": "1.5.0",
            "_model_name": "DescriptionStyleModel",
            "_view_count": null,
            "_view_module": "@jupyter-widgets/base",
            "_view_module_version": "1.2.0",
            "_view_name": "StyleView",
            "description_width": ""
          }
        },
        "702d28a8e4b946afa55b3a324db74024": {
          "model_module": "@jupyter-widgets/controls",
          "model_name": "HBoxModel",
          "model_module_version": "1.5.0",
          "state": {
            "_dom_classes": [],
            "_model_module": "@jupyter-widgets/controls",
            "_model_module_version": "1.5.0",
            "_model_name": "HBoxModel",
            "_view_count": null,
            "_view_module": "@jupyter-widgets/controls",
            "_view_module_version": "1.5.0",
            "_view_name": "HBoxView",
            "box_style": "",
            "children": [
              "IPY_MODEL_ab5f061a7a374df98d0dd9cb0fa04da1",
              "IPY_MODEL_c7dd67d6ddcb443596769f266853726d",
              "IPY_MODEL_c908ceda556d4cd58194af03dd4e294b"
            ],
            "layout": "IPY_MODEL_8251e6a5621d4331800f296af20173c6"
          }
        },
        "ab5f061a7a374df98d0dd9cb0fa04da1": {
          "model_module": "@jupyter-widgets/controls",
          "model_name": "HTMLModel",
          "model_module_version": "1.5.0",
          "state": {
            "_dom_classes": [],
            "_model_module": "@jupyter-widgets/controls",
            "_model_module_version": "1.5.0",
            "_model_name": "HTMLModel",
            "_view_count": null,
            "_view_module": "@jupyter-widgets/controls",
            "_view_module_version": "1.5.0",
            "_view_name": "HTMLView",
            "description": "",
            "description_tooltip": null,
            "layout": "IPY_MODEL_2d2ebf66882a4985959594223f5470f1",
            "placeholder": "​",
            "style": "IPY_MODEL_f1f52929a59c45a0bed8f4a9829266ec",
            "value": ""
          }
        },
        "c7dd67d6ddcb443596769f266853726d": {
          "model_module": "@jupyter-widgets/controls",
          "model_name": "FloatProgressModel",
          "model_module_version": "1.5.0",
          "state": {
            "_dom_classes": [],
            "_model_module": "@jupyter-widgets/controls",
            "_model_module_version": "1.5.0",
            "_model_name": "FloatProgressModel",
            "_view_count": null,
            "_view_module": "@jupyter-widgets/controls",
            "_view_module_version": "1.5.0",
            "_view_name": "ProgressView",
            "bar_style": "success",
            "description": "",
            "description_tooltip": null,
            "layout": "IPY_MODEL_8c5d3eddeed94294af4509d92a4c1056",
            "max": 1,
            "min": 0,
            "orientation": "horizontal",
            "style": "IPY_MODEL_9997e14046604589984cdc43fca74af1",
            "value": 1
          }
        },
        "c908ceda556d4cd58194af03dd4e294b": {
          "model_module": "@jupyter-widgets/controls",
          "model_name": "HTMLModel",
          "model_module_version": "1.5.0",
          "state": {
            "_dom_classes": [],
            "_model_module": "@jupyter-widgets/controls",
            "_model_module_version": "1.5.0",
            "_model_name": "HTMLModel",
            "_view_count": null,
            "_view_module": "@jupyter-widgets/controls",
            "_view_module_version": "1.5.0",
            "_view_name": "HTMLView",
            "description": "",
            "description_tooltip": null,
            "layout": "IPY_MODEL_b1c3675eba8a4e3cbdc801b713ee1d1c",
            "placeholder": "​",
            "style": "IPY_MODEL_54aa0fa7ae8b4d83aef2c7191f36f1e4",
            "value": " 745/? [03:53&lt;00:00,  1.70s/it, bound:0 nc:  1 ncall:5.1e+03 eff:20.5% logz-ratio=284.59+/-0.12 dlogz:0.003&gt;1]"
          }
        },
        "8251e6a5621d4331800f296af20173c6": {
          "model_module": "@jupyter-widgets/base",
          "model_name": "LayoutModel",
          "model_module_version": "1.2.0",
          "state": {
            "_model_module": "@jupyter-widgets/base",
            "_model_module_version": "1.2.0",
            "_model_name": "LayoutModel",
            "_view_count": null,
            "_view_module": "@jupyter-widgets/base",
            "_view_module_version": "1.2.0",
            "_view_name": "LayoutView",
            "align_content": null,
            "align_items": null,
            "align_self": null,
            "border": null,
            "bottom": null,
            "display": null,
            "flex": null,
            "flex_flow": null,
            "grid_area": null,
            "grid_auto_columns": null,
            "grid_auto_flow": null,
            "grid_auto_rows": null,
            "grid_column": null,
            "grid_gap": null,
            "grid_row": null,
            "grid_template_areas": null,
            "grid_template_columns": null,
            "grid_template_rows": null,
            "height": null,
            "justify_content": null,
            "justify_items": null,
            "left": null,
            "margin": null,
            "max_height": null,
            "max_width": null,
            "min_height": null,
            "min_width": null,
            "object_fit": null,
            "object_position": null,
            "order": null,
            "overflow": null,
            "overflow_x": null,
            "overflow_y": null,
            "padding": null,
            "right": null,
            "top": null,
            "visibility": null,
            "width": null
          }
        },
        "2d2ebf66882a4985959594223f5470f1": {
          "model_module": "@jupyter-widgets/base",
          "model_name": "LayoutModel",
          "model_module_version": "1.2.0",
          "state": {
            "_model_module": "@jupyter-widgets/base",
            "_model_module_version": "1.2.0",
            "_model_name": "LayoutModel",
            "_view_count": null,
            "_view_module": "@jupyter-widgets/base",
            "_view_module_version": "1.2.0",
            "_view_name": "LayoutView",
            "align_content": null,
            "align_items": null,
            "align_self": null,
            "border": null,
            "bottom": null,
            "display": null,
            "flex": null,
            "flex_flow": null,
            "grid_area": null,
            "grid_auto_columns": null,
            "grid_auto_flow": null,
            "grid_auto_rows": null,
            "grid_column": null,
            "grid_gap": null,
            "grid_row": null,
            "grid_template_areas": null,
            "grid_template_columns": null,
            "grid_template_rows": null,
            "height": null,
            "justify_content": null,
            "justify_items": null,
            "left": null,
            "margin": null,
            "max_height": null,
            "max_width": null,
            "min_height": null,
            "min_width": null,
            "object_fit": null,
            "object_position": null,
            "order": null,
            "overflow": null,
            "overflow_x": null,
            "overflow_y": null,
            "padding": null,
            "right": null,
            "top": null,
            "visibility": null,
            "width": null
          }
        },
        "f1f52929a59c45a0bed8f4a9829266ec": {
          "model_module": "@jupyter-widgets/controls",
          "model_name": "DescriptionStyleModel",
          "model_module_version": "1.5.0",
          "state": {
            "_model_module": "@jupyter-widgets/controls",
            "_model_module_version": "1.5.0",
            "_model_name": "DescriptionStyleModel",
            "_view_count": null,
            "_view_module": "@jupyter-widgets/base",
            "_view_module_version": "1.2.0",
            "_view_name": "StyleView",
            "description_width": ""
          }
        },
        "8c5d3eddeed94294af4509d92a4c1056": {
          "model_module": "@jupyter-widgets/base",
          "model_name": "LayoutModel",
          "model_module_version": "1.2.0",
          "state": {
            "_model_module": "@jupyter-widgets/base",
            "_model_module_version": "1.2.0",
            "_model_name": "LayoutModel",
            "_view_count": null,
            "_view_module": "@jupyter-widgets/base",
            "_view_module_version": "1.2.0",
            "_view_name": "LayoutView",
            "align_content": null,
            "align_items": null,
            "align_self": null,
            "border": null,
            "bottom": null,
            "display": null,
            "flex": null,
            "flex_flow": null,
            "grid_area": null,
            "grid_auto_columns": null,
            "grid_auto_flow": null,
            "grid_auto_rows": null,
            "grid_column": null,
            "grid_gap": null,
            "grid_row": null,
            "grid_template_areas": null,
            "grid_template_columns": null,
            "grid_template_rows": null,
            "height": null,
            "justify_content": null,
            "justify_items": null,
            "left": null,
            "margin": null,
            "max_height": null,
            "max_width": null,
            "min_height": null,
            "min_width": null,
            "object_fit": null,
            "object_position": null,
            "order": null,
            "overflow": null,
            "overflow_x": null,
            "overflow_y": null,
            "padding": null,
            "right": null,
            "top": null,
            "visibility": null,
            "width": "20px"
          }
        },
        "9997e14046604589984cdc43fca74af1": {
          "model_module": "@jupyter-widgets/controls",
          "model_name": "ProgressStyleModel",
          "model_module_version": "1.5.0",
          "state": {
            "_model_module": "@jupyter-widgets/controls",
            "_model_module_version": "1.5.0",
            "_model_name": "ProgressStyleModel",
            "_view_count": null,
            "_view_module": "@jupyter-widgets/base",
            "_view_module_version": "1.2.0",
            "_view_name": "StyleView",
            "bar_color": null,
            "description_width": ""
          }
        },
        "b1c3675eba8a4e3cbdc801b713ee1d1c": {
          "model_module": "@jupyter-widgets/base",
          "model_name": "LayoutModel",
          "model_module_version": "1.2.0",
          "state": {
            "_model_module": "@jupyter-widgets/base",
            "_model_module_version": "1.2.0",
            "_model_name": "LayoutModel",
            "_view_count": null,
            "_view_module": "@jupyter-widgets/base",
            "_view_module_version": "1.2.0",
            "_view_name": "LayoutView",
            "align_content": null,
            "align_items": null,
            "align_self": null,
            "border": null,
            "bottom": null,
            "display": null,
            "flex": null,
            "flex_flow": null,
            "grid_area": null,
            "grid_auto_columns": null,
            "grid_auto_flow": null,
            "grid_auto_rows": null,
            "grid_column": null,
            "grid_gap": null,
            "grid_row": null,
            "grid_template_areas": null,
            "grid_template_columns": null,
            "grid_template_rows": null,
            "height": null,
            "justify_content": null,
            "justify_items": null,
            "left": null,
            "margin": null,
            "max_height": null,
            "max_width": null,
            "min_height": null,
            "min_width": null,
            "object_fit": null,
            "object_position": null,
            "order": null,
            "overflow": null,
            "overflow_x": null,
            "overflow_y": null,
            "padding": null,
            "right": null,
            "top": null,
            "visibility": null,
            "width": null
          }
        },
        "54aa0fa7ae8b4d83aef2c7191f36f1e4": {
          "model_module": "@jupyter-widgets/controls",
          "model_name": "DescriptionStyleModel",
          "model_module_version": "1.5.0",
          "state": {
            "_model_module": "@jupyter-widgets/controls",
            "_model_module_version": "1.5.0",
            "_model_name": "DescriptionStyleModel",
            "_view_count": null,
            "_view_module": "@jupyter-widgets/base",
            "_view_module_version": "1.2.0",
            "_view_name": "StyleView",
            "description_width": ""
          }
        },
        "179f2429a6bc457aa258c905a3629f20": {
          "model_module": "@jupyter-widgets/controls",
          "model_name": "HBoxModel",
          "model_module_version": "1.5.0",
          "state": {
            "_dom_classes": [],
            "_model_module": "@jupyter-widgets/controls",
            "_model_module_version": "1.5.0",
            "_model_name": "HBoxModel",
            "_view_count": null,
            "_view_module": "@jupyter-widgets/controls",
            "_view_module_version": "1.5.0",
            "_view_name": "HBoxView",
            "box_style": "",
            "children": [
              "IPY_MODEL_d9ab01dd5b7341b0b85d217373619a6e",
              "IPY_MODEL_1df25a03a4e049bcae76841941ab7b36",
              "IPY_MODEL_32617cc19bc44d338bf095587612d343"
            ],
            "layout": "IPY_MODEL_b954dfdc88ad43ec810fa39d8c8c47fe"
          }
        },
        "d9ab01dd5b7341b0b85d217373619a6e": {
          "model_module": "@jupyter-widgets/controls",
          "model_name": "HTMLModel",
          "model_module_version": "1.5.0",
          "state": {
            "_dom_classes": [],
            "_model_module": "@jupyter-widgets/controls",
            "_model_module_version": "1.5.0",
            "_model_name": "HTMLModel",
            "_view_count": null,
            "_view_module": "@jupyter-widgets/controls",
            "_view_module_version": "1.5.0",
            "_view_name": "HTMLView",
            "description": "",
            "description_tooltip": null,
            "layout": "IPY_MODEL_3a24a882b3fa470bb1da7a50e2b80a32",
            "placeholder": "​",
            "style": "IPY_MODEL_cd1d91679de44b44a3251999eae0072b",
            "value": "100%"
          }
        },
        "1df25a03a4e049bcae76841941ab7b36": {
          "model_module": "@jupyter-widgets/controls",
          "model_name": "FloatProgressModel",
          "model_module_version": "1.5.0",
          "state": {
            "_dom_classes": [],
            "_model_module": "@jupyter-widgets/controls",
            "_model_module_version": "1.5.0",
            "_model_name": "FloatProgressModel",
            "_view_count": null,
            "_view_module": "@jupyter-widgets/controls",
            "_view_module_version": "1.5.0",
            "_view_name": "ProgressView",
            "bar_style": "success",
            "description": "",
            "description_tooltip": null,
            "layout": "IPY_MODEL_3df78f89f8ee40be82d1ed34fbb12cb5",
            "max": 300,
            "min": 0,
            "orientation": "horizontal",
            "style": "IPY_MODEL_b1084d7b127c4b8b868aa6ef10f627de",
            "value": 300
          }
        },
        "32617cc19bc44d338bf095587612d343": {
          "model_module": "@jupyter-widgets/controls",
          "model_name": "HTMLModel",
          "model_module_version": "1.5.0",
          "state": {
            "_dom_classes": [],
            "_model_module": "@jupyter-widgets/controls",
            "_model_module_version": "1.5.0",
            "_model_name": "HTMLModel",
            "_view_count": null,
            "_view_module": "@jupyter-widgets/controls",
            "_view_module_version": "1.5.0",
            "_view_name": "HTMLView",
            "description": "",
            "description_tooltip": null,
            "layout": "IPY_MODEL_7df1aa0e8d7044c289823fb544672442",
            "placeholder": "​",
            "style": "IPY_MODEL_5718889aa2c442a4a5dad7b7fa9e68fb",
            "value": " 300/300 [00:14&lt;00:00, 20.85it/s]"
          }
        },
        "b954dfdc88ad43ec810fa39d8c8c47fe": {
          "model_module": "@jupyter-widgets/base",
          "model_name": "LayoutModel",
          "model_module_version": "1.2.0",
          "state": {
            "_model_module": "@jupyter-widgets/base",
            "_model_module_version": "1.2.0",
            "_model_name": "LayoutModel",
            "_view_count": null,
            "_view_module": "@jupyter-widgets/base",
            "_view_module_version": "1.2.0",
            "_view_name": "LayoutView",
            "align_content": null,
            "align_items": null,
            "align_self": null,
            "border": null,
            "bottom": null,
            "display": null,
            "flex": null,
            "flex_flow": null,
            "grid_area": null,
            "grid_auto_columns": null,
            "grid_auto_flow": null,
            "grid_auto_rows": null,
            "grid_column": null,
            "grid_gap": null,
            "grid_row": null,
            "grid_template_areas": null,
            "grid_template_columns": null,
            "grid_template_rows": null,
            "height": null,
            "justify_content": null,
            "justify_items": null,
            "left": null,
            "margin": null,
            "max_height": null,
            "max_width": null,
            "min_height": null,
            "min_width": null,
            "object_fit": null,
            "object_position": null,
            "order": null,
            "overflow": null,
            "overflow_x": null,
            "overflow_y": null,
            "padding": null,
            "right": null,
            "top": null,
            "visibility": null,
            "width": null
          }
        },
        "3a24a882b3fa470bb1da7a50e2b80a32": {
          "model_module": "@jupyter-widgets/base",
          "model_name": "LayoutModel",
          "model_module_version": "1.2.0",
          "state": {
            "_model_module": "@jupyter-widgets/base",
            "_model_module_version": "1.2.0",
            "_model_name": "LayoutModel",
            "_view_count": null,
            "_view_module": "@jupyter-widgets/base",
            "_view_module_version": "1.2.0",
            "_view_name": "LayoutView",
            "align_content": null,
            "align_items": null,
            "align_self": null,
            "border": null,
            "bottom": null,
            "display": null,
            "flex": null,
            "flex_flow": null,
            "grid_area": null,
            "grid_auto_columns": null,
            "grid_auto_flow": null,
            "grid_auto_rows": null,
            "grid_column": null,
            "grid_gap": null,
            "grid_row": null,
            "grid_template_areas": null,
            "grid_template_columns": null,
            "grid_template_rows": null,
            "height": null,
            "justify_content": null,
            "justify_items": null,
            "left": null,
            "margin": null,
            "max_height": null,
            "max_width": null,
            "min_height": null,
            "min_width": null,
            "object_fit": null,
            "object_position": null,
            "order": null,
            "overflow": null,
            "overflow_x": null,
            "overflow_y": null,
            "padding": null,
            "right": null,
            "top": null,
            "visibility": null,
            "width": null
          }
        },
        "cd1d91679de44b44a3251999eae0072b": {
          "model_module": "@jupyter-widgets/controls",
          "model_name": "DescriptionStyleModel",
          "model_module_version": "1.5.0",
          "state": {
            "_model_module": "@jupyter-widgets/controls",
            "_model_module_version": "1.5.0",
            "_model_name": "DescriptionStyleModel",
            "_view_count": null,
            "_view_module": "@jupyter-widgets/base",
            "_view_module_version": "1.2.0",
            "_view_name": "StyleView",
            "description_width": ""
          }
        },
        "3df78f89f8ee40be82d1ed34fbb12cb5": {
          "model_module": "@jupyter-widgets/base",
          "model_name": "LayoutModel",
          "model_module_version": "1.2.0",
          "state": {
            "_model_module": "@jupyter-widgets/base",
            "_model_module_version": "1.2.0",
            "_model_name": "LayoutModel",
            "_view_count": null,
            "_view_module": "@jupyter-widgets/base",
            "_view_module_version": "1.2.0",
            "_view_name": "LayoutView",
            "align_content": null,
            "align_items": null,
            "align_self": null,
            "border": null,
            "bottom": null,
            "display": null,
            "flex": null,
            "flex_flow": null,
            "grid_area": null,
            "grid_auto_columns": null,
            "grid_auto_flow": null,
            "grid_auto_rows": null,
            "grid_column": null,
            "grid_gap": null,
            "grid_row": null,
            "grid_template_areas": null,
            "grid_template_columns": null,
            "grid_template_rows": null,
            "height": null,
            "justify_content": null,
            "justify_items": null,
            "left": null,
            "margin": null,
            "max_height": null,
            "max_width": null,
            "min_height": null,
            "min_width": null,
            "object_fit": null,
            "object_position": null,
            "order": null,
            "overflow": null,
            "overflow_x": null,
            "overflow_y": null,
            "padding": null,
            "right": null,
            "top": null,
            "visibility": null,
            "width": null
          }
        },
        "b1084d7b127c4b8b868aa6ef10f627de": {
          "model_module": "@jupyter-widgets/controls",
          "model_name": "ProgressStyleModel",
          "model_module_version": "1.5.0",
          "state": {
            "_model_module": "@jupyter-widgets/controls",
            "_model_module_version": "1.5.0",
            "_model_name": "ProgressStyleModel",
            "_view_count": null,
            "_view_module": "@jupyter-widgets/base",
            "_view_module_version": "1.2.0",
            "_view_name": "StyleView",
            "bar_color": null,
            "description_width": ""
          }
        },
        "7df1aa0e8d7044c289823fb544672442": {
          "model_module": "@jupyter-widgets/base",
          "model_name": "LayoutModel",
          "model_module_version": "1.2.0",
          "state": {
            "_model_module": "@jupyter-widgets/base",
            "_model_module_version": "1.2.0",
            "_model_name": "LayoutModel",
            "_view_count": null,
            "_view_module": "@jupyter-widgets/base",
            "_view_module_version": "1.2.0",
            "_view_name": "LayoutView",
            "align_content": null,
            "align_items": null,
            "align_self": null,
            "border": null,
            "bottom": null,
            "display": null,
            "flex": null,
            "flex_flow": null,
            "grid_area": null,
            "grid_auto_columns": null,
            "grid_auto_flow": null,
            "grid_auto_rows": null,
            "grid_column": null,
            "grid_gap": null,
            "grid_row": null,
            "grid_template_areas": null,
            "grid_template_columns": null,
            "grid_template_rows": null,
            "height": null,
            "justify_content": null,
            "justify_items": null,
            "left": null,
            "margin": null,
            "max_height": null,
            "max_width": null,
            "min_height": null,
            "min_width": null,
            "object_fit": null,
            "object_position": null,
            "order": null,
            "overflow": null,
            "overflow_x": null,
            "overflow_y": null,
            "padding": null,
            "right": null,
            "top": null,
            "visibility": null,
            "width": null
          }
        },
        "5718889aa2c442a4a5dad7b7fa9e68fb": {
          "model_module": "@jupyter-widgets/controls",
          "model_name": "DescriptionStyleModel",
          "model_module_version": "1.5.0",
          "state": {
            "_model_module": "@jupyter-widgets/controls",
            "_model_module_version": "1.5.0",
            "_model_name": "DescriptionStyleModel",
            "_view_count": null,
            "_view_module": "@jupyter-widgets/base",
            "_view_module_version": "1.2.0",
            "_view_name": "StyleView",
            "description_width": ""
          }
        },
        "322e22b00f0b4457980587080db913e4": {
          "model_module": "@jupyter-widgets/controls",
          "model_name": "HBoxModel",
          "model_module_version": "1.5.0",
          "state": {
            "_dom_classes": [],
            "_model_module": "@jupyter-widgets/controls",
            "_model_module_version": "1.5.0",
            "_model_name": "HBoxModel",
            "_view_count": null,
            "_view_module": "@jupyter-widgets/controls",
            "_view_module_version": "1.5.0",
            "_view_name": "HBoxView",
            "box_style": "",
            "children": [
              "IPY_MODEL_6097d74b7f2340b9985e60639c81c266",
              "IPY_MODEL_10e426e27cb94a298b28ac988ecb86fc",
              "IPY_MODEL_28fb6e9a51ac450488d731a48f533ef9"
            ],
            "layout": "IPY_MODEL_9cacac1492a84279aabeca1e3478f5da"
          }
        },
        "6097d74b7f2340b9985e60639c81c266": {
          "model_module": "@jupyter-widgets/controls",
          "model_name": "HTMLModel",
          "model_module_version": "1.5.0",
          "state": {
            "_dom_classes": [],
            "_model_module": "@jupyter-widgets/controls",
            "_model_module_version": "1.5.0",
            "_model_name": "HTMLModel",
            "_view_count": null,
            "_view_module": "@jupyter-widgets/controls",
            "_view_module_version": "1.5.0",
            "_view_name": "HTMLView",
            "description": "",
            "description_tooltip": null,
            "layout": "IPY_MODEL_c4982e60089246e4aea892934e7408bd",
            "placeholder": "​",
            "style": "IPY_MODEL_51c84ac5eb5e4c1b9a4c1477263d4527",
            "value": "100%"
          }
        },
        "10e426e27cb94a298b28ac988ecb86fc": {
          "model_module": "@jupyter-widgets/controls",
          "model_name": "FloatProgressModel",
          "model_module_version": "1.5.0",
          "state": {
            "_dom_classes": [],
            "_model_module": "@jupyter-widgets/controls",
            "_model_module_version": "1.5.0",
            "_model_name": "FloatProgressModel",
            "_view_count": null,
            "_view_module": "@jupyter-widgets/controls",
            "_view_module_version": "1.5.0",
            "_view_name": "ProgressView",
            "bar_style": "success",
            "description": "",
            "description_tooltip": null,
            "layout": "IPY_MODEL_f28c16a1d5834d9f962b15efc47fb085",
            "max": 300,
            "min": 0,
            "orientation": "horizontal",
            "style": "IPY_MODEL_4846171dbec9426a8688f5c3fd2d19a2",
            "value": 300
          }
        },
        "28fb6e9a51ac450488d731a48f533ef9": {
          "model_module": "@jupyter-widgets/controls",
          "model_name": "HTMLModel",
          "model_module_version": "1.5.0",
          "state": {
            "_dom_classes": [],
            "_model_module": "@jupyter-widgets/controls",
            "_model_module_version": "1.5.0",
            "_model_name": "HTMLModel",
            "_view_count": null,
            "_view_module": "@jupyter-widgets/controls",
            "_view_module_version": "1.5.0",
            "_view_name": "HTMLView",
            "description": "",
            "description_tooltip": null,
            "layout": "IPY_MODEL_fe2e2366d03e4c71a3172850a8db3b90",
            "placeholder": "​",
            "style": "IPY_MODEL_f9d752461901411487d8211e1467eec7",
            "value": " 300/300 [00:22&lt;00:00, 12.45it/s]"
          }
        },
        "9cacac1492a84279aabeca1e3478f5da": {
          "model_module": "@jupyter-widgets/base",
          "model_name": "LayoutModel",
          "model_module_version": "1.2.0",
          "state": {
            "_model_module": "@jupyter-widgets/base",
            "_model_module_version": "1.2.0",
            "_model_name": "LayoutModel",
            "_view_count": null,
            "_view_module": "@jupyter-widgets/base",
            "_view_module_version": "1.2.0",
            "_view_name": "LayoutView",
            "align_content": null,
            "align_items": null,
            "align_self": null,
            "border": null,
            "bottom": null,
            "display": null,
            "flex": null,
            "flex_flow": null,
            "grid_area": null,
            "grid_auto_columns": null,
            "grid_auto_flow": null,
            "grid_auto_rows": null,
            "grid_column": null,
            "grid_gap": null,
            "grid_row": null,
            "grid_template_areas": null,
            "grid_template_columns": null,
            "grid_template_rows": null,
            "height": null,
            "justify_content": null,
            "justify_items": null,
            "left": null,
            "margin": null,
            "max_height": null,
            "max_width": null,
            "min_height": null,
            "min_width": null,
            "object_fit": null,
            "object_position": null,
            "order": null,
            "overflow": null,
            "overflow_x": null,
            "overflow_y": null,
            "padding": null,
            "right": null,
            "top": null,
            "visibility": null,
            "width": null
          }
        },
        "c4982e60089246e4aea892934e7408bd": {
          "model_module": "@jupyter-widgets/base",
          "model_name": "LayoutModel",
          "model_module_version": "1.2.0",
          "state": {
            "_model_module": "@jupyter-widgets/base",
            "_model_module_version": "1.2.0",
            "_model_name": "LayoutModel",
            "_view_count": null,
            "_view_module": "@jupyter-widgets/base",
            "_view_module_version": "1.2.0",
            "_view_name": "LayoutView",
            "align_content": null,
            "align_items": null,
            "align_self": null,
            "border": null,
            "bottom": null,
            "display": null,
            "flex": null,
            "flex_flow": null,
            "grid_area": null,
            "grid_auto_columns": null,
            "grid_auto_flow": null,
            "grid_auto_rows": null,
            "grid_column": null,
            "grid_gap": null,
            "grid_row": null,
            "grid_template_areas": null,
            "grid_template_columns": null,
            "grid_template_rows": null,
            "height": null,
            "justify_content": null,
            "justify_items": null,
            "left": null,
            "margin": null,
            "max_height": null,
            "max_width": null,
            "min_height": null,
            "min_width": null,
            "object_fit": null,
            "object_position": null,
            "order": null,
            "overflow": null,
            "overflow_x": null,
            "overflow_y": null,
            "padding": null,
            "right": null,
            "top": null,
            "visibility": null,
            "width": null
          }
        },
        "51c84ac5eb5e4c1b9a4c1477263d4527": {
          "model_module": "@jupyter-widgets/controls",
          "model_name": "DescriptionStyleModel",
          "model_module_version": "1.5.0",
          "state": {
            "_model_module": "@jupyter-widgets/controls",
            "_model_module_version": "1.5.0",
            "_model_name": "DescriptionStyleModel",
            "_view_count": null,
            "_view_module": "@jupyter-widgets/base",
            "_view_module_version": "1.2.0",
            "_view_name": "StyleView",
            "description_width": ""
          }
        },
        "f28c16a1d5834d9f962b15efc47fb085": {
          "model_module": "@jupyter-widgets/base",
          "model_name": "LayoutModel",
          "model_module_version": "1.2.0",
          "state": {
            "_model_module": "@jupyter-widgets/base",
            "_model_module_version": "1.2.0",
            "_model_name": "LayoutModel",
            "_view_count": null,
            "_view_module": "@jupyter-widgets/base",
            "_view_module_version": "1.2.0",
            "_view_name": "LayoutView",
            "align_content": null,
            "align_items": null,
            "align_self": null,
            "border": null,
            "bottom": null,
            "display": null,
            "flex": null,
            "flex_flow": null,
            "grid_area": null,
            "grid_auto_columns": null,
            "grid_auto_flow": null,
            "grid_auto_rows": null,
            "grid_column": null,
            "grid_gap": null,
            "grid_row": null,
            "grid_template_areas": null,
            "grid_template_columns": null,
            "grid_template_rows": null,
            "height": null,
            "justify_content": null,
            "justify_items": null,
            "left": null,
            "margin": null,
            "max_height": null,
            "max_width": null,
            "min_height": null,
            "min_width": null,
            "object_fit": null,
            "object_position": null,
            "order": null,
            "overflow": null,
            "overflow_x": null,
            "overflow_y": null,
            "padding": null,
            "right": null,
            "top": null,
            "visibility": null,
            "width": null
          }
        },
        "4846171dbec9426a8688f5c3fd2d19a2": {
          "model_module": "@jupyter-widgets/controls",
          "model_name": "ProgressStyleModel",
          "model_module_version": "1.5.0",
          "state": {
            "_model_module": "@jupyter-widgets/controls",
            "_model_module_version": "1.5.0",
            "_model_name": "ProgressStyleModel",
            "_view_count": null,
            "_view_module": "@jupyter-widgets/base",
            "_view_module_version": "1.2.0",
            "_view_name": "StyleView",
            "bar_color": null,
            "description_width": ""
          }
        },
        "fe2e2366d03e4c71a3172850a8db3b90": {
          "model_module": "@jupyter-widgets/base",
          "model_name": "LayoutModel",
          "model_module_version": "1.2.0",
          "state": {
            "_model_module": "@jupyter-widgets/base",
            "_model_module_version": "1.2.0",
            "_model_name": "LayoutModel",
            "_view_count": null,
            "_view_module": "@jupyter-widgets/base",
            "_view_module_version": "1.2.0",
            "_view_name": "LayoutView",
            "align_content": null,
            "align_items": null,
            "align_self": null,
            "border": null,
            "bottom": null,
            "display": null,
            "flex": null,
            "flex_flow": null,
            "grid_area": null,
            "grid_auto_columns": null,
            "grid_auto_flow": null,
            "grid_auto_rows": null,
            "grid_column": null,
            "grid_gap": null,
            "grid_row": null,
            "grid_template_areas": null,
            "grid_template_columns": null,
            "grid_template_rows": null,
            "height": null,
            "justify_content": null,
            "justify_items": null,
            "left": null,
            "margin": null,
            "max_height": null,
            "max_width": null,
            "min_height": null,
            "min_width": null,
            "object_fit": null,
            "object_position": null,
            "order": null,
            "overflow": null,
            "overflow_x": null,
            "overflow_y": null,
            "padding": null,
            "right": null,
            "top": null,
            "visibility": null,
            "width": null
          }
        },
        "f9d752461901411487d8211e1467eec7": {
          "model_module": "@jupyter-widgets/controls",
          "model_name": "DescriptionStyleModel",
          "model_module_version": "1.5.0",
          "state": {
            "_model_module": "@jupyter-widgets/controls",
            "_model_module_version": "1.5.0",
            "_model_name": "DescriptionStyleModel",
            "_view_count": null,
            "_view_module": "@jupyter-widgets/base",
            "_view_module_version": "1.2.0",
            "_view_name": "StyleView",
            "description_width": ""
          }
        },
        "663a823eeba3462faca763283db134ee": {
          "model_module": "@jupyter-widgets/controls",
          "model_name": "HBoxModel",
          "model_module_version": "1.5.0",
          "state": {
            "_dom_classes": [],
            "_model_module": "@jupyter-widgets/controls",
            "_model_module_version": "1.5.0",
            "_model_name": "HBoxModel",
            "_view_count": null,
            "_view_module": "@jupyter-widgets/controls",
            "_view_module_version": "1.5.0",
            "_view_name": "HBoxView",
            "box_style": "",
            "children": [
              "IPY_MODEL_88516a36d6444207ab6455214da5a2d1",
              "IPY_MODEL_0fbad3b6b45d434db8aaf54a29a767ec",
              "IPY_MODEL_785c9808d0904a4399494a6cc615af24"
            ],
            "layout": "IPY_MODEL_78607a27df594336a9956e2173842f5a"
          }
        },
        "88516a36d6444207ab6455214da5a2d1": {
          "model_module": "@jupyter-widgets/controls",
          "model_name": "HTMLModel",
          "model_module_version": "1.5.0",
          "state": {
            "_dom_classes": [],
            "_model_module": "@jupyter-widgets/controls",
            "_model_module_version": "1.5.0",
            "_model_name": "HTMLModel",
            "_view_count": null,
            "_view_module": "@jupyter-widgets/controls",
            "_view_module_version": "1.5.0",
            "_view_name": "HTMLView",
            "description": "",
            "description_tooltip": null,
            "layout": "IPY_MODEL_8e06a0528f654201acaa980968f0026d",
            "placeholder": "​",
            "style": "IPY_MODEL_ebfbee16a3b848d0be5ac6edffacbd5b",
            "value": "100%"
          }
        },
        "0fbad3b6b45d434db8aaf54a29a767ec": {
          "model_module": "@jupyter-widgets/controls",
          "model_name": "FloatProgressModel",
          "model_module_version": "1.5.0",
          "state": {
            "_dom_classes": [],
            "_model_module": "@jupyter-widgets/controls",
            "_model_module_version": "1.5.0",
            "_model_name": "FloatProgressModel",
            "_view_count": null,
            "_view_module": "@jupyter-widgets/controls",
            "_view_module_version": "1.5.0",
            "_view_name": "ProgressView",
            "bar_style": "success",
            "description": "",
            "description_tooltip": null,
            "layout": "IPY_MODEL_e392f010bf704750a20d36bdc9b5a4f9",
            "max": 300,
            "min": 0,
            "orientation": "horizontal",
            "style": "IPY_MODEL_9da7db2d1c8f4fef9fae4ba2fd8370c8",
            "value": 300
          }
        },
        "785c9808d0904a4399494a6cc615af24": {
          "model_module": "@jupyter-widgets/controls",
          "model_name": "HTMLModel",
          "model_module_version": "1.5.0",
          "state": {
            "_dom_classes": [],
            "_model_module": "@jupyter-widgets/controls",
            "_model_module_version": "1.5.0",
            "_model_name": "HTMLModel",
            "_view_count": null,
            "_view_module": "@jupyter-widgets/controls",
            "_view_module_version": "1.5.0",
            "_view_name": "HTMLView",
            "description": "",
            "description_tooltip": null,
            "layout": "IPY_MODEL_ddc4c9e3ec5c4bdb82e3c40d5546cccf",
            "placeholder": "​",
            "style": "IPY_MODEL_8a930e1e13ed49a4854b7858a6401009",
            "value": " 300/300 [00:00&lt;00:00, 2104.84it/s]"
          }
        },
        "78607a27df594336a9956e2173842f5a": {
          "model_module": "@jupyter-widgets/base",
          "model_name": "LayoutModel",
          "model_module_version": "1.2.0",
          "state": {
            "_model_module": "@jupyter-widgets/base",
            "_model_module_version": "1.2.0",
            "_model_name": "LayoutModel",
            "_view_count": null,
            "_view_module": "@jupyter-widgets/base",
            "_view_module_version": "1.2.0",
            "_view_name": "LayoutView",
            "align_content": null,
            "align_items": null,
            "align_self": null,
            "border": null,
            "bottom": null,
            "display": null,
            "flex": null,
            "flex_flow": null,
            "grid_area": null,
            "grid_auto_columns": null,
            "grid_auto_flow": null,
            "grid_auto_rows": null,
            "grid_column": null,
            "grid_gap": null,
            "grid_row": null,
            "grid_template_areas": null,
            "grid_template_columns": null,
            "grid_template_rows": null,
            "height": null,
            "justify_content": null,
            "justify_items": null,
            "left": null,
            "margin": null,
            "max_height": null,
            "max_width": null,
            "min_height": null,
            "min_width": null,
            "object_fit": null,
            "object_position": null,
            "order": null,
            "overflow": null,
            "overflow_x": null,
            "overflow_y": null,
            "padding": null,
            "right": null,
            "top": null,
            "visibility": null,
            "width": null
          }
        },
        "8e06a0528f654201acaa980968f0026d": {
          "model_module": "@jupyter-widgets/base",
          "model_name": "LayoutModel",
          "model_module_version": "1.2.0",
          "state": {
            "_model_module": "@jupyter-widgets/base",
            "_model_module_version": "1.2.0",
            "_model_name": "LayoutModel",
            "_view_count": null,
            "_view_module": "@jupyter-widgets/base",
            "_view_module_version": "1.2.0",
            "_view_name": "LayoutView",
            "align_content": null,
            "align_items": null,
            "align_self": null,
            "border": null,
            "bottom": null,
            "display": null,
            "flex": null,
            "flex_flow": null,
            "grid_area": null,
            "grid_auto_columns": null,
            "grid_auto_flow": null,
            "grid_auto_rows": null,
            "grid_column": null,
            "grid_gap": null,
            "grid_row": null,
            "grid_template_areas": null,
            "grid_template_columns": null,
            "grid_template_rows": null,
            "height": null,
            "justify_content": null,
            "justify_items": null,
            "left": null,
            "margin": null,
            "max_height": null,
            "max_width": null,
            "min_height": null,
            "min_width": null,
            "object_fit": null,
            "object_position": null,
            "order": null,
            "overflow": null,
            "overflow_x": null,
            "overflow_y": null,
            "padding": null,
            "right": null,
            "top": null,
            "visibility": null,
            "width": null
          }
        },
        "ebfbee16a3b848d0be5ac6edffacbd5b": {
          "model_module": "@jupyter-widgets/controls",
          "model_name": "DescriptionStyleModel",
          "model_module_version": "1.5.0",
          "state": {
            "_model_module": "@jupyter-widgets/controls",
            "_model_module_version": "1.5.0",
            "_model_name": "DescriptionStyleModel",
            "_view_count": null,
            "_view_module": "@jupyter-widgets/base",
            "_view_module_version": "1.2.0",
            "_view_name": "StyleView",
            "description_width": ""
          }
        },
        "e392f010bf704750a20d36bdc9b5a4f9": {
          "model_module": "@jupyter-widgets/base",
          "model_name": "LayoutModel",
          "model_module_version": "1.2.0",
          "state": {
            "_model_module": "@jupyter-widgets/base",
            "_model_module_version": "1.2.0",
            "_model_name": "LayoutModel",
            "_view_count": null,
            "_view_module": "@jupyter-widgets/base",
            "_view_module_version": "1.2.0",
            "_view_name": "LayoutView",
            "align_content": null,
            "align_items": null,
            "align_self": null,
            "border": null,
            "bottom": null,
            "display": null,
            "flex": null,
            "flex_flow": null,
            "grid_area": null,
            "grid_auto_columns": null,
            "grid_auto_flow": null,
            "grid_auto_rows": null,
            "grid_column": null,
            "grid_gap": null,
            "grid_row": null,
            "grid_template_areas": null,
            "grid_template_columns": null,
            "grid_template_rows": null,
            "height": null,
            "justify_content": null,
            "justify_items": null,
            "left": null,
            "margin": null,
            "max_height": null,
            "max_width": null,
            "min_height": null,
            "min_width": null,
            "object_fit": null,
            "object_position": null,
            "order": null,
            "overflow": null,
            "overflow_x": null,
            "overflow_y": null,
            "padding": null,
            "right": null,
            "top": null,
            "visibility": null,
            "width": null
          }
        },
        "9da7db2d1c8f4fef9fae4ba2fd8370c8": {
          "model_module": "@jupyter-widgets/controls",
          "model_name": "ProgressStyleModel",
          "model_module_version": "1.5.0",
          "state": {
            "_model_module": "@jupyter-widgets/controls",
            "_model_module_version": "1.5.0",
            "_model_name": "ProgressStyleModel",
            "_view_count": null,
            "_view_module": "@jupyter-widgets/base",
            "_view_module_version": "1.2.0",
            "_view_name": "StyleView",
            "bar_color": null,
            "description_width": ""
          }
        },
        "ddc4c9e3ec5c4bdb82e3c40d5546cccf": {
          "model_module": "@jupyter-widgets/base",
          "model_name": "LayoutModel",
          "model_module_version": "1.2.0",
          "state": {
            "_model_module": "@jupyter-widgets/base",
            "_model_module_version": "1.2.0",
            "_model_name": "LayoutModel",
            "_view_count": null,
            "_view_module": "@jupyter-widgets/base",
            "_view_module_version": "1.2.0",
            "_view_name": "LayoutView",
            "align_content": null,
            "align_items": null,
            "align_self": null,
            "border": null,
            "bottom": null,
            "display": null,
            "flex": null,
            "flex_flow": null,
            "grid_area": null,
            "grid_auto_columns": null,
            "grid_auto_flow": null,
            "grid_auto_rows": null,
            "grid_column": null,
            "grid_gap": null,
            "grid_row": null,
            "grid_template_areas": null,
            "grid_template_columns": null,
            "grid_template_rows": null,
            "height": null,
            "justify_content": null,
            "justify_items": null,
            "left": null,
            "margin": null,
            "max_height": null,
            "max_width": null,
            "min_height": null,
            "min_width": null,
            "object_fit": null,
            "object_position": null,
            "order": null,
            "overflow": null,
            "overflow_x": null,
            "overflow_y": null,
            "padding": null,
            "right": null,
            "top": null,
            "visibility": null,
            "width": null
          }
        },
        "8a930e1e13ed49a4854b7858a6401009": {
          "model_module": "@jupyter-widgets/controls",
          "model_name": "DescriptionStyleModel",
          "model_module_version": "1.5.0",
          "state": {
            "_model_module": "@jupyter-widgets/controls",
            "_model_module_version": "1.5.0",
            "_model_name": "DescriptionStyleModel",
            "_view_count": null,
            "_view_module": "@jupyter-widgets/base",
            "_view_module_version": "1.2.0",
            "_view_name": "StyleView",
            "description_width": ""
          }
        },
        "c2447113d8d2479d8e41f2f7a9b64081": {
          "model_module": "@jupyter-widgets/controls",
          "model_name": "HBoxModel",
          "model_module_version": "1.5.0",
          "state": {
            "_dom_classes": [],
            "_model_module": "@jupyter-widgets/controls",
            "_model_module_version": "1.5.0",
            "_model_name": "HBoxModel",
            "_view_count": null,
            "_view_module": "@jupyter-widgets/controls",
            "_view_module_version": "1.5.0",
            "_view_name": "HBoxView",
            "box_style": "",
            "children": [
              "IPY_MODEL_8e873a3d649c4eba95585d05992ffbaf",
              "IPY_MODEL_d6913840f00f4cddb64cde20f920a34a",
              "IPY_MODEL_00fd60120ce441f683092fe57979d7c3"
            ],
            "layout": "IPY_MODEL_58b3f9d12ce84010a462a8ad825b3e8d"
          }
        },
        "8e873a3d649c4eba95585d05992ffbaf": {
          "model_module": "@jupyter-widgets/controls",
          "model_name": "HTMLModel",
          "model_module_version": "1.5.0",
          "state": {
            "_dom_classes": [],
            "_model_module": "@jupyter-widgets/controls",
            "_model_module_version": "1.5.0",
            "_model_name": "HTMLModel",
            "_view_count": null,
            "_view_module": "@jupyter-widgets/controls",
            "_view_module_version": "1.5.0",
            "_view_name": "HTMLView",
            "description": "",
            "description_tooltip": null,
            "layout": "IPY_MODEL_c9df7941180a47198a540c852182ed8c",
            "placeholder": "​",
            "style": "IPY_MODEL_04560c51a58b4d769c7346b0bd045d5e",
            "value": "100%"
          }
        },
        "d6913840f00f4cddb64cde20f920a34a": {
          "model_module": "@jupyter-widgets/controls",
          "model_name": "FloatProgressModel",
          "model_module_version": "1.5.0",
          "state": {
            "_dom_classes": [],
            "_model_module": "@jupyter-widgets/controls",
            "_model_module_version": "1.5.0",
            "_model_name": "FloatProgressModel",
            "_view_count": null,
            "_view_module": "@jupyter-widgets/controls",
            "_view_module_version": "1.5.0",
            "_view_name": "ProgressView",
            "bar_style": "success",
            "description": "",
            "description_tooltip": null,
            "layout": "IPY_MODEL_0b823b49eb9e413f98fb149216149e0d",
            "max": 300,
            "min": 0,
            "orientation": "horizontal",
            "style": "IPY_MODEL_b3175792571147b1ad14aabe3d5dc98a",
            "value": 300
          }
        },
        "00fd60120ce441f683092fe57979d7c3": {
          "model_module": "@jupyter-widgets/controls",
          "model_name": "HTMLModel",
          "model_module_version": "1.5.0",
          "state": {
            "_dom_classes": [],
            "_model_module": "@jupyter-widgets/controls",
            "_model_module_version": "1.5.0",
            "_model_name": "HTMLModel",
            "_view_count": null,
            "_view_module": "@jupyter-widgets/controls",
            "_view_module_version": "1.5.0",
            "_view_name": "HTMLView",
            "description": "",
            "description_tooltip": null,
            "layout": "IPY_MODEL_1ca13064f96e438884d778fcbb1f7e92",
            "placeholder": "​",
            "style": "IPY_MODEL_a2cf5f538fb94d74a84c167bfc71905e",
            "value": " 300/300 [00:15&lt;00:00, 19.68it/s]"
          }
        },
        "58b3f9d12ce84010a462a8ad825b3e8d": {
          "model_module": "@jupyter-widgets/base",
          "model_name": "LayoutModel",
          "model_module_version": "1.2.0",
          "state": {
            "_model_module": "@jupyter-widgets/base",
            "_model_module_version": "1.2.0",
            "_model_name": "LayoutModel",
            "_view_count": null,
            "_view_module": "@jupyter-widgets/base",
            "_view_module_version": "1.2.0",
            "_view_name": "LayoutView",
            "align_content": null,
            "align_items": null,
            "align_self": null,
            "border": null,
            "bottom": null,
            "display": null,
            "flex": null,
            "flex_flow": null,
            "grid_area": null,
            "grid_auto_columns": null,
            "grid_auto_flow": null,
            "grid_auto_rows": null,
            "grid_column": null,
            "grid_gap": null,
            "grid_row": null,
            "grid_template_areas": null,
            "grid_template_columns": null,
            "grid_template_rows": null,
            "height": null,
            "justify_content": null,
            "justify_items": null,
            "left": null,
            "margin": null,
            "max_height": null,
            "max_width": null,
            "min_height": null,
            "min_width": null,
            "object_fit": null,
            "object_position": null,
            "order": null,
            "overflow": null,
            "overflow_x": null,
            "overflow_y": null,
            "padding": null,
            "right": null,
            "top": null,
            "visibility": null,
            "width": null
          }
        },
        "c9df7941180a47198a540c852182ed8c": {
          "model_module": "@jupyter-widgets/base",
          "model_name": "LayoutModel",
          "model_module_version": "1.2.0",
          "state": {
            "_model_module": "@jupyter-widgets/base",
            "_model_module_version": "1.2.0",
            "_model_name": "LayoutModel",
            "_view_count": null,
            "_view_module": "@jupyter-widgets/base",
            "_view_module_version": "1.2.0",
            "_view_name": "LayoutView",
            "align_content": null,
            "align_items": null,
            "align_self": null,
            "border": null,
            "bottom": null,
            "display": null,
            "flex": null,
            "flex_flow": null,
            "grid_area": null,
            "grid_auto_columns": null,
            "grid_auto_flow": null,
            "grid_auto_rows": null,
            "grid_column": null,
            "grid_gap": null,
            "grid_row": null,
            "grid_template_areas": null,
            "grid_template_columns": null,
            "grid_template_rows": null,
            "height": null,
            "justify_content": null,
            "justify_items": null,
            "left": null,
            "margin": null,
            "max_height": null,
            "max_width": null,
            "min_height": null,
            "min_width": null,
            "object_fit": null,
            "object_position": null,
            "order": null,
            "overflow": null,
            "overflow_x": null,
            "overflow_y": null,
            "padding": null,
            "right": null,
            "top": null,
            "visibility": null,
            "width": null
          }
        },
        "04560c51a58b4d769c7346b0bd045d5e": {
          "model_module": "@jupyter-widgets/controls",
          "model_name": "DescriptionStyleModel",
          "model_module_version": "1.5.0",
          "state": {
            "_model_module": "@jupyter-widgets/controls",
            "_model_module_version": "1.5.0",
            "_model_name": "DescriptionStyleModel",
            "_view_count": null,
            "_view_module": "@jupyter-widgets/base",
            "_view_module_version": "1.2.0",
            "_view_name": "StyleView",
            "description_width": ""
          }
        },
        "0b823b49eb9e413f98fb149216149e0d": {
          "model_module": "@jupyter-widgets/base",
          "model_name": "LayoutModel",
          "model_module_version": "1.2.0",
          "state": {
            "_model_module": "@jupyter-widgets/base",
            "_model_module_version": "1.2.0",
            "_model_name": "LayoutModel",
            "_view_count": null,
            "_view_module": "@jupyter-widgets/base",
            "_view_module_version": "1.2.0",
            "_view_name": "LayoutView",
            "align_content": null,
            "align_items": null,
            "align_self": null,
            "border": null,
            "bottom": null,
            "display": null,
            "flex": null,
            "flex_flow": null,
            "grid_area": null,
            "grid_auto_columns": null,
            "grid_auto_flow": null,
            "grid_auto_rows": null,
            "grid_column": null,
            "grid_gap": null,
            "grid_row": null,
            "grid_template_areas": null,
            "grid_template_columns": null,
            "grid_template_rows": null,
            "height": null,
            "justify_content": null,
            "justify_items": null,
            "left": null,
            "margin": null,
            "max_height": null,
            "max_width": null,
            "min_height": null,
            "min_width": null,
            "object_fit": null,
            "object_position": null,
            "order": null,
            "overflow": null,
            "overflow_x": null,
            "overflow_y": null,
            "padding": null,
            "right": null,
            "top": null,
            "visibility": null,
            "width": null
          }
        },
        "b3175792571147b1ad14aabe3d5dc98a": {
          "model_module": "@jupyter-widgets/controls",
          "model_name": "ProgressStyleModel",
          "model_module_version": "1.5.0",
          "state": {
            "_model_module": "@jupyter-widgets/controls",
            "_model_module_version": "1.5.0",
            "_model_name": "ProgressStyleModel",
            "_view_count": null,
            "_view_module": "@jupyter-widgets/base",
            "_view_module_version": "1.2.0",
            "_view_name": "StyleView",
            "bar_color": null,
            "description_width": ""
          }
        },
        "1ca13064f96e438884d778fcbb1f7e92": {
          "model_module": "@jupyter-widgets/base",
          "model_name": "LayoutModel",
          "model_module_version": "1.2.0",
          "state": {
            "_model_module": "@jupyter-widgets/base",
            "_model_module_version": "1.2.0",
            "_model_name": "LayoutModel",
            "_view_count": null,
            "_view_module": "@jupyter-widgets/base",
            "_view_module_version": "1.2.0",
            "_view_name": "LayoutView",
            "align_content": null,
            "align_items": null,
            "align_self": null,
            "border": null,
            "bottom": null,
            "display": null,
            "flex": null,
            "flex_flow": null,
            "grid_area": null,
            "grid_auto_columns": null,
            "grid_auto_flow": null,
            "grid_auto_rows": null,
            "grid_column": null,
            "grid_gap": null,
            "grid_row": null,
            "grid_template_areas": null,
            "grid_template_columns": null,
            "grid_template_rows": null,
            "height": null,
            "justify_content": null,
            "justify_items": null,
            "left": null,
            "margin": null,
            "max_height": null,
            "max_width": null,
            "min_height": null,
            "min_width": null,
            "object_fit": null,
            "object_position": null,
            "order": null,
            "overflow": null,
            "overflow_x": null,
            "overflow_y": null,
            "padding": null,
            "right": null,
            "top": null,
            "visibility": null,
            "width": null
          }
        },
        "a2cf5f538fb94d74a84c167bfc71905e": {
          "model_module": "@jupyter-widgets/controls",
          "model_name": "DescriptionStyleModel",
          "model_module_version": "1.5.0",
          "state": {
            "_model_module": "@jupyter-widgets/controls",
            "_model_module_version": "1.5.0",
            "_model_name": "DescriptionStyleModel",
            "_view_count": null,
            "_view_module": "@jupyter-widgets/base",
            "_view_module_version": "1.2.0",
            "_view_name": "StyleView",
            "description_width": ""
          }
        }
      }
    }
  },
  "nbformat": 4,
  "nbformat_minor": 0
}